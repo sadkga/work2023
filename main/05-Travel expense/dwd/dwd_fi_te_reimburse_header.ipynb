{
  "nbformat": 4,
  "nbformat_minor": 2,
  "cells": [
    {
      "cell_type": "code",
      "execution_count": 11,
      "outputs": [],
      "metadata": {},
      "source": [
        "# 导包\r\n",
        "from notebookutils import mssparkutils  \r\n",
        "from openpyxl import load_workbook\r\n",
        "import pandas as pd\r\n",
        "import os\r\n",
        "from datetime import datetime,timedelta    \r\n",
        "from pyspark.sql.types import StructType, StructField, StringType\r\n",
        "import pyspark.sql.functions as F"
      ]
    },
    {
      "cell_type": "code",
      "execution_count": 12,
      "outputs": [],
      "metadata": {
        "jupyter": {
          "source_hidden": false,
          "outputs_hidden": false
        },
        "nteract": {
          "transient": {
            "deleting": false
          }
        }
      },
      "source": [
        "# 方法\r\n",
        "def schema_from_pandas(df):\r\n",
        "    \"\"\"读取pd文件schema\"\"\"\r\n",
        "    schema = StructType([StructField(str(col),StringType(),True) for col in df.columns]) \r\n",
        "    return schema"
      ]
    },
    {
      "cell_type": "code",
      "execution_count": 13,
      "outputs": [],
      "metadata": {
        "jupyter": {
          "source_hidden": false,
          "outputs_hidden": true
        },
        "nteract": {
          "transient": {
            "deleting": false
          }
        },
        "collapsed": false
      },
      "source": [
        "# todo 1：数据载入\r\n",
        "ods_reimburse = 'abfss://data-warehouse-ods@dlsaaddpnorth3001.dfs.core.chinacloudapi.cn/ods_mau_reimburse_cn_mf.csv'\r\n",
        "df_pd = pd.read_csv(ods_reimburse).fillna('')\r\n",
        "\r\n",
        "schema = schema_from_pandas(df_pd)\r\n",
        "df  = spark.createDataFrame(df_pd,schema=schema)\r\n",
        "\r\n",
        "\r\n",
        "# todo 2:数据准备\r\n",
        "cols = {\r\n",
        "     'Project'  :   'project'\r\n",
        "    ,'Key'  :   'reimbursement_key'\r\n",
        "    ,'Approved Travel Application'  :   'TA_key'\r\n",
        "    ,'Summary'  :   'summary'\r\n",
        "    ,'Issue Type'   :   'issue_type'\r\n",
        "    ,'Status'   :   'status'\r\n",
        "    ,'Priority' :   'priority'\r\n",
        "    ,'Resolution'   :   'resolution'\r\n",
        "    ,'Current Assignee' :   'current_assignee'\r\n",
        "    ,'Applicant'    :   'applicant'\r\n",
        "    ,'Created'  :   'created'\r\n",
        "    ,'Updated'  :   'updated'\r\n",
        "    ,'Due Date' :   'due_date'\r\n",
        "    ,'NT-ID Second Level'   :   'NT_ID_second_level'\r\n",
        "    ,'NT-ID First Level'    :   'NT_ID_first_level'\r\n",
        "    ,'Application reason & additional comment'  :   'application_reason_additional_comment'\r\n",
        "    ,'Cost Center'  :   'cost_center'\r\n",
        "    ,'Company Code' :   'company_code'\r\n",
        "    ,'Special Approval *'   :   'special_approval'\r\n",
        "    ,'Adjustment necessary *'   :   'adjustment_necessary'\r\n",
        "    ,'Approvers *'  :   'approvers'\r\n",
        "    ,'Advance applied or not *' :   'advance_applied_or_not'\r\n",
        "    ,'Approved Advance Application' :   'approved_advance_application'\r\n",
        "    ,'Charge to other cost center *'    :   'charge_to_other_cost_center'\r\n",
        "    ,'apcntr.field.trainingProvider'    :   'training_provider'\r\n",
        "    ,'apcntr.field.trainingType'    :   'training_type'\r\n",
        "    ,'apcntr.field.trainingNeedsCaused' :   'training_needs_caused'\r\n",
        "    ,'Name (Modify & Post)' :   'name_modify_post'\r\n",
        "    ,'apcntr.field.thisTrainingCost'    :   'this_training_cost'\r\n",
        "    ,'apcntr.field.tmpTrainingType' :   'tmp_training_type'\r\n",
        "    ,'Open advance' :   'open_advance'\r\n",
        "    ,'Time (Modify & Post)' :   'time_modify_post'\r\n",
        "    ,'apcntr.field.estimatedTravelExpenses' :   'estimated_travel_expenses'\r\n",
        "    ,'apcntr.field.participantNumber'   :   'participant_number'\r\n",
        "    ,'apcntr.field.estimatedOtherCost'  :   'estimated_other_cost'\r\n",
        "    ,'apcntr.field.estimatedTotalCost'  :   'estimated_total_cost'\r\n",
        "    ,'common.field.employee.companycode'    :   'employee_company_code'\r\n",
        "    ,'Total - FIN Deduction'    :   'total_FIN_deduction'\r\n",
        "    ,'Total - Kilometers'   :   'total_kilometers'\r\n",
        "    ,'Global CC2'   :   'global_CC2'\r\n",
        "    ,'Policy Compliance Result' :   'policy_compliance_result'\r\n",
        "    ,'Non-compliance Reason'    :   'non_compliance_reason'\r\n",
        "    ,'Personnel number *'   :   'personnel_number'\r\n",
        "    ,'Tel.' :   'Telephone'\r\n",
        "    ,'FIN Remark Ref'   :   'FIN_remark_ref'\r\n",
        "    ,'FIN Remark Reason Type'   :   'FIN_remark_reason_type'\r\n",
        "    ,'FIN Remark Reason Details'    :   'FIN_remark_reason_details'\r\n",
        "    ,'FIN Remark Reason Code'   :   'FIN_remark_reason_code'\r\n",
        "    ,'FIN Remark Comment'   :   'FIN_remark_reason_comment'\r\n",
        "    ,'Actual Start Date, Time*:'    :   'actual_start_date_time'\r\n",
        "    ,'SAP number'   :   'SAP_number'\r\n",
        "    ,'Charge to Cost Center *'  :   'charge_to_cost_center'\r\n",
        "    ,'Travel or not *'  :   'travel_or_not'\r\n",
        "    ,'Charge to other division (company code)'  :   'charge_to_other_division_company_code'\r\n",
        "    ,'Travel Type'  :   'travel_type'\r\n",
        "    ,'Planned End Date:'    :   'planned_end_date'\r\n",
        "    ,'Planned Start Date:'  :   'planned_start_date'\r\n",
        "    ,'Planned Duration:'    :   'planned_duration'\r\n",
        "    ,'WBS/Internal order Posted'    :   'WBS_Internal_order_posted'\r\n",
        "    ,'Total - Payable'  :   'total_payable'\r\n",
        "    ,'Org.Unit' :   'org_unit'\r\n",
        "    ,'Message returned from SAP'    :   'message_returned_from_SAP'\r\n",
        "    ,'Actual Duration:' :   'actual_duration'\r\n",
        "    ,'Name' :   'name'\r\n",
        "    ,'Actual End Date, Time*:'  :   'actual_end_date_time'\r\n",
        "    ,'WBS/Internal order'   :   'WBS_Internal_order'\r\n",
        "    ,'Global CC'    :   'global_CC'\r\n",
        "    ,'Applicant NT/Display Name'    :   'applicant_NT_display_name'\r\n",
        "    ,'Travel to*:'  :   'travel_to'\r\n",
        "    ,'travel_allow' :   'travel_allow'\r\n",
        "    ,'WBS or Internal order'    :   'WBS_or_internal_order'\r\n",
        "    ,'Total - Claim'    :   'total_claim'\r\n",
        "    ,'Request need print and delivery?' :   'request_need_print_and_delivery'\r\n",
        "    ,'Fapiao & Supporting'  :   'Fapiao_and_supporting'\r\n",
        "    ,'Total - Actual payment'   :   'total_actual_payment'\r\n",
        "    ,'Text sent to SAP *'   :   'text_sent_to_SAP'\r\n",
        "}   \r\n",
        "\r\n",
        "for old_name , new_name in cols.items():\r\n",
        "    df = df.withColumnRenamed(old_name, new_name)\r\n",
        "\r\n",
        "# todo 3: 数据处理      \r\n",
        "formatted_endtime = datetime.now()\r\n",
        "formatted_endtime += timedelta(hours=8)\r\n",
        "etl_load_time = formatted_endtime.strftime(\"%Y-%m-%d %H:%M:%S\")\r\n",
        "\r\n",
        "df = df.select(list(cols.values())) \\\r\n",
        "        .dropDuplicates() \\\r\n",
        "        .withColumn('etl_load_time', F.lit(etl_load_time)) \\\r\n",
        "        .toPandas() \r\n",
        "\r\n",
        "\r\n",
        "display(df)"
      ]
    },
    {
      "cell_type": "code",
      "execution_count": 14,
      "outputs": [],
      "metadata": {
        "jupyter": {
          "source_hidden": false,
          "outputs_hidden": false
        },
        "nteract": {
          "transient": {
            "deleting": false
          }
        }
      },
      "source": [
        "# todo 4：数据落盘\r\n",
        "save_path = 'abfss://data-warehouse-dwd@dlsaaddpnorth3001.dfs.core.chinacloudapi.cn/dwd_fi_te_reimburse_header.parquet'\r\n",
        "df.to_parquet(save_path,index=False)"
      ]
    },
    {
      "cell_type": "code",
      "execution_count": 15,
      "outputs": [],
      "metadata": {
        "jupyter": {
          "source_hidden": false,
          "outputs_hidden": false
        },
        "nteract": {
          "transient": {
            "deleting": false
          }
        }
      },
      "source": [
        "# todo 5：数据落盘\r\n",
        "save_path = 'abfss://data-warehouse-dwd@dlsaaddpnorth3001.dfs.core.chinacloudapi.cn/dwd_fi_te_reimburse_header.csv'\r\n",
        "df.to_csv(save_path,index=False,header=True)"
      ]
    }
  ],
  "metadata": {
    "description": null,
    "save_output": true,
    "kernelspec": {
      "name": "synapse_pyspark",
      "display_name": "Synapse PySpark"
    },
    "language_info": {
      "name": "python"
    }
  }
}