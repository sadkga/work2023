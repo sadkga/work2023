{
  "nbformat": 4,
  "nbformat_minor": 2,
  "cells": [
    {
      "cell_type": "code",
      "execution_count": 105,
      "outputs": [
        {
          "output_type": "display_data",
          "data": {
            "application/vnd.livy.statement-meta+json": {
              "spark_pool": "aasparkpool001",
              "session_id": "376",
              "statement_id": 43,
              "state": "finished",
              "livy_statement_state": "available",
              "queued_time": "2023-12-12T06:38:34.0473715Z",
              "session_start_time": "2023-12-12T06:38:34.0983542Z",
              "execution_start_time": "2023-12-12T06:38:34.2606282Z",
              "execution_finish_time": "2023-12-12T06:38:34.4576064Z",
              "spark_jobs": null,
              "parent_msg_id": "8835a919-b724-49f0-b326-0c7ef918125f"
            },
            "text/plain": "StatementMeta(aasparkpool001, 376, 43, Finished, Available)"
          },
          "metadata": {}
        }
      ],
      "metadata": {},
      "source": [
        "from datetime import datetime, timedelta\r\n",
        "import pyspark.sql.functions as F"
      ]
    },
    {
      "cell_type": "code",
      "execution_count": 106,
      "outputs": [
        {
          "output_type": "display_data",
          "data": {
            "application/vnd.livy.statement-meta+json": {
              "spark_pool": "aasparkpool001",
              "session_id": "376",
              "statement_id": 44,
              "state": "finished",
              "livy_statement_state": "available",
              "queued_time": "2023-12-12T06:38:37.8386318Z",
              "session_start_time": null,
              "execution_start_time": "2023-12-12T06:38:37.9716032Z",
              "execution_finish_time": "2023-12-12T06:38:40.8846745Z",
              "spark_jobs": null,
              "parent_msg_id": "561b1bfb-f4a2-4117-8949-867165a42b1e"
            },
            "text/plain": "StatementMeta(aasparkpool001, 376, 44, Finished, Available)"
          },
          "metadata": {}
        }
      ],
      "metadata": {
        "jupyter": {
          "source_hidden": false,
          "outputs_hidden": false
        },
        "nteract": {
          "transient": {
            "deleting": false
          }
        },
        "collapsed": false
      },
      "source": [
        "# 读取数据\r\n",
        "ods_path = 'abfss://data-warehouse-ods@dlsaaddpnorth3001.dfs.core.chinacloudapi.cn/ods_mau_air_ticket_cn_mi.csv'\r\n",
        "df1 = spark.read.csv(ods_path,header=True).drop('etl_load_time')\r\n",
        "\r\n",
        "# 指定列\r\n",
        "cols = {\r\n",
        "    'Account No'   :   'account_no'\r\n",
        "    ,'Cardholder'   :   'cardholder'\r\n",
        "    ,'Place'    :   'place'\r\n",
        "    ,'Invoice No'   :   'invoice_no'\r\n",
        "    ,'Invoice Date' :   'invoice_date'\r\n",
        "    ,'Gross Amount' :   'gross_amount_local_currency'\r\n",
        "    ,'Item No'  :   'item_no'\r\n",
        "    ,'Type' :   'type'\r\n",
        "    ,'TicketNumber' :   'ticket_number'\r\n",
        "    ,'Name' :   'name'\r\n",
        "    ,'Routing'  :   'routing'\r\n",
        "    ,'Service Provider' :   'service_provider'\r\n",
        "    ,'Sales Date'   :   'sales_date'\r\n",
        "    ,'Travel Date'  :   'travel_date'\r\n",
        "    ,'Booking Class'    :   'booking_class'\r\n",
        "    ,'Airline Code' :   'airline_code'\r\n",
        "    ,'Sales Currency'   :   'sales_currency'\r\n",
        "    ,'Net Amount (SC)'  :   'net_amount_sales_currency'\r\n",
        "    ,'Tax Amount'   :   'tax_amount'\r\n",
        "    ,'Billing Currency' :   'billing_currency'\r\n",
        "    ,'Gross Amount (BC)'    :   'gross_amount_billing_currency'\r\n",
        "    ,'Details'  :   'details'\r\n",
        "    ,'Employee No'  :   'employee_no'\r\n",
        "    ,'Department'   :   'department'\r\n",
        "    ,'Cost Center'  :   'cost_center'\r\n",
        "    ,'AccountingUnit'   :   'accounting_unit'\r\n",
        "    ,'Travel Type'  :   'travel_type'\r\n",
        "    ,'Departure D'  :   'departure_date'\r\n",
        "    ,'Project No'   :   'project_no'\r\n",
        "    ,'Order No' :   'TA_key'\r\n",
        "    ,'Action No'    :   'action_no'\r\n",
        "    ,'Final Destination'    :   'final_destination'\r\n",
        "    ,'Customer Reference'   :   'customer_reference'\r\n",
        "    ,'0-Invoice No' :   '0_invoice_no'\r\n",
        "    ,'IATA No'  :   'IATA_no'\r\n",
        "    ,'VAT Rate' :   'VAT_rate'\r\n",
        "    ,'Fee Tag'  :   'fee_tag'\r\n",
        "    ,'Service code' :   'service_code'\r\n",
        "    ,'Domestic Tag' :   'domestic_tag'\r\n",
        "    ,'Due Date' :   'due_date'\r\n",
        "    ,'Additional Insurance' :   'additional_insurance'\r\n",
        "    ,'Service line1'    :   'service_line1'\r\n",
        "    ,'Service line2'    :   'service_line2'\r\n",
        "    ,'Service line3'    :   'service_line3'\r\n",
        "    ,'Fees (Tax)'   :   'fees_tax'\r\n",
        "    ,'A.I.D.A. Number'  :   'AIDA_number'\r\n",
        "} \r\n",
        "for old_name, new_name in cols.items():\r\n",
        "    df1 = df1.withColumnRenamed(old_name, new_name)\r\n",
        "\r\n",
        "# 添加时间\r\n",
        "formatted_endtime = datetime.now()\r\n",
        "formatted_endtime += timedelta(hours=8)\r\n",
        "etl_load_time = formatted_endtime.strftime(f\"%Y-%m-%d %H:%M:%S\")\r\n",
        "df = df1.withColumn('etl_load_time', F.lit(etl_load_time)).toPandas()\r\n",
        ""
      ]
    },
    {
      "cell_type": "code",
      "execution_count": 108,
      "outputs": [
        {
          "output_type": "display_data",
          "data": {
            "application/vnd.livy.statement-meta+json": {
              "spark_pool": "aasparkpool001",
              "session_id": "376",
              "statement_id": 46,
              "state": "finished",
              "livy_statement_state": "available",
              "queued_time": "2023-12-12T06:40:04.496753Z",
              "session_start_time": null,
              "execution_start_time": "2023-12-12T06:40:04.6899426Z",
              "execution_finish_time": "2023-12-12T06:40:05.8199325Z",
              "spark_jobs": null,
              "parent_msg_id": "c675a4d3-8ebf-4127-9a2b-e63de7cb6f3f"
            },
            "text/plain": "StatementMeta(aasparkpool001, 376, 46, Finished, Available)"
          },
          "metadata": {}
        }
      ],
      "metadata": {
        "jupyter": {
          "source_hidden": false,
          "outputs_hidden": false
        },
        "nteract": {
          "transient": {
            "deleting": false
          }
        }
      },
      "source": [
        "# 数据写入\r\n",
        "save_path = 'abfss://data-warehouse-dwd@dlsaaddpnorth3001.dfs.core.chinacloudapi.cn/dwd_fi_te_air_ticket_cn.csv'\r\n",
        "df.to_csv(save_path,index=False, header=True)"
      ]
    }
  ],
  "metadata": {
    "description": null,
    "save_output": true,
    "kernelspec": {
      "name": "synapse_pyspark",
      "display_name": "Synapse PySpark"
    },
    "language_info": {
      "name": "python"
    },
    "synapse_widget": {
      "version": "0.1",
      "state": {}
    }
  }
}