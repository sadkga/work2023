{
  "nbformat": 4,
  "nbformat_minor": 2,
  "cells": [
    {
      "cell_type": "code",
      "execution_count": 8,
      "outputs": [],
      "metadata": {},
      "source": [
        "# 导包\r\n",
        "from datetime import datetime,timedelta    \r\n",
        "import pandas as pd"
      ]
    },
    {
      "cell_type": "code",
      "execution_count": 9,
      "outputs": [],
      "metadata": {
        "jupyter": {
          "source_hidden": false,
          "outputs_hidden": false
        },
        "nteract": {
          "transient": {
            "deleting": false
          }
        },
        "collapsed": false
      },
      "source": [
        "# todo 1：数据载入\r\n",
        "ods_reimburse = 'abfss://data-warehouse-ods@dlsaaddpnorth3001.dfs.core.chinacloudapi.cn/ods_mau_reimburse_cn_mf.csv'\r\n",
        "df_pd = pd.read_csv(ods_reimburse)\r\n",
        "\r\n",
        "\r\n",
        "# todo 2：数据处理\r\n",
        "cols = {\r\n",
        "     'Key'  :   'reimbursement_key'\r\n",
        "    ,'Expense details Ref.' :   'expense_details_ref'\r\n",
        "    ,'Expense details Source'   :   'expense_details_source'\r\n",
        "    ,'Expense details Date *'   :   'expense_details_date'\r\n",
        "    ,'Expense details Type *'   :   'expense_details_type'\r\n",
        "    ,'Expense details Country / region *'   :   'expense_details_country_region'\r\n",
        "    ,'Expense details Description'  :   'expense_details_description'\r\n",
        "    ,'Expense details Payment *'    :   'expense_details_payment'\r\n",
        "    ,'Expense details Invoice type *'   :   'expense_details_Invoice_type'\r\n",
        "    ,'Expense details Invoice number'   :   'expense_details_Invoice_number'\r\n",
        "    ,'Expense details Tax'  :   'expense_details_tax'\r\n",
        "    ,'Expense details Invoice verify status *'  :   'expense_details_invoice_verify_status'\r\n",
        "    ,'Expense details Invoice check tag'    :   'expense_details_invoice_check_tag'\r\n",
        "    ,'Expense details Invoice total amount' :   'expense_details_invoice_total_amount'\r\n",
        "    ,'Expense details Unit Price *' :   'expense_details_unit_price'\r\n",
        "    ,'Expense details Currency *'   :   'expense_details_currency'\r\n",
        "    ,'Expense details Unit' :   'expense_details_unit'\r\n",
        "    ,'Expense details Unit Price in local currency' :   'expense_details_unit_price_in_local currency'\r\n",
        "    ,'Expense details Volume *' :   'expense_details_volume'\r\n",
        "    ,'Expense details Amount in local currency' :   'expense_details_amount_in_local_currency'\r\n",
        "    ,'Expense details FIN adjusted amountin local currency'    :   'expense_details_FIN_adjusted_amount_in_local_currency'\r\n",
        "    ,'Expense details Exchange ratededuction'  :   'expense_details_exchange_rate_deduction'\r\n",
        "    ,'Expense details Checkedamount'   :   'expense_details_checked_amount'\r\n",
        "    ,'Expense details Associate expense *'  :   'expense_details_associate_expense'\r\n",
        "    ,'Expense details Policy Compliance *'  :   'expense_details_policy_compliance'\r\n",
        "    ,'Expense details Associate Details'    :   'expense_details_associate_details'\r\n",
        "    ,'Expense details Suspend/ Send back'   :   'expense_details_suspend_send_back'\r\n",
        "    ,'Expense details Suspend/ Send back reason details'    :   'expense_details_suspend_send_back_reason_detail'\r\n",
        "    ,'Expense details TYPE' :   'expense_details_type2'\r\n",
        "    ,'Expense details CODE' :   'expense_details_code'\r\n",
        "    ,'Expense details G_MESSAGE'    :   'expense_details_G_message'\r\n",
        "}\r\n",
        "\r\n",
        "df_pd.columns = [i.replace('\\n', '') for i in list(df_pd.columns)]\r\n",
        "df = df_pd.rename(columns=cols)\r\n",
        "df = df[list(cols.values())]\r\n",
        "df = df.drop_duplicates()  \r\n",
        "\r\n",
        "formatted_endtime = datetime.now()\r\n",
        "formatted_endtime += timedelta(hours=8)\r\n",
        "etl_load_time = formatted_endtime.strftime(\"%Y-%m-%d %H:%M:%S\")\r\n",
        "df['etl_load_time'] = etl_load_time\r\n",
        ""
      ]
    },
    {
      "cell_type": "code",
      "execution_count": 10,
      "outputs": [],
      "metadata": {
        "jupyter": {
          "source_hidden": false,
          "outputs_hidden": false
        },
        "nteract": {
          "transient": {
            "deleting": false
          }
        }
      },
      "source": [
        "# todo 3:数据写入\r\n",
        "save_path = 'abfss://data-warehouse-dwd@dlsaaddpnorth3001.dfs.core.chinacloudapi.cn/dwd_fi_te_reimburse_exp_detail.csv'\r\n",
        "df.to_csv(save_path,index=False, header=True)"
      ]
    }
  ],
  "metadata": {
    "description": null,
    "save_output": true,
    "kernelspec": {
      "name": "synapse_pyspark",
      "display_name": "Synapse PySpark"
    },
    "language_info": {
      "name": "python"
    }
  }
}