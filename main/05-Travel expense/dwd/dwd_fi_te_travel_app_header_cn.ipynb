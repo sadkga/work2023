{
  "nbformat": 4,
  "nbformat_minor": 2,
  "cells": [
    {
      "cell_type": "code",
      "execution_count": 16,
      "outputs": [],
      "metadata": {},
      "source": [
        "# 导包\r\n",
        "from notebookutils import mssparkutils  \r\n",
        "from openpyxl import load_workbook\r\n",
        "import pandas as pd\r\n",
        "import os\r\n",
        "from datetime import datetime,timedelta    \r\n",
        "from pyspark.sql.types import StructType, StructField, StringType\r\n",
        "import pyspark.sql.functions as F"
      ]
    },
    {
      "cell_type": "code",
      "execution_count": 17,
      "outputs": [],
      "metadata": {
        "jupyter": {
          "source_hidden": false,
          "outputs_hidden": false
        },
        "nteract": {
          "transient": {
            "deleting": false
          }
        }
      },
      "source": [
        "# 方法\r\n",
        "def schema_from_pandas(df):\r\n",
        "    \"\"\"读取pd文件schema\"\"\"\r\n",
        "    schema = StructType([StructField(str(col),StringType(),True) for col in df.columns]) \r\n",
        "    return schema"
      ]
    },
    {
      "cell_type": "code",
      "execution_count": 18,
      "outputs": [],
      "metadata": {
        "jupyter": {
          "source_hidden": false,
          "outputs_hidden": true
        },
        "nteract": {
          "transient": {
            "deleting": false
          }
        },
        "collapsed": false
      },
      "source": [
        "# todo 1：数据载入\r\n",
        "ods_reimburse = 'abfss://data-warehouse-ods@dlsaaddpnorth3001.dfs.core.chinacloudapi.cn/ods_mau_travel_app_cn_mf.csv'\r\n",
        "df_pd = pd.read_csv(ods_reimburse).fillna('') \r\n",
        "\r\n",
        "schema = schema_from_pandas(df_pd)\r\n",
        "df  = spark.createDataFrame(df_pd,schema=schema)\r\n",
        "\r\n",
        "\r\n",
        "# todo 2:数据准备\r\n",
        "cols = {\r\n",
        "    'Project' : 'project'\r\n",
        "    ,'Key'  :   'TA_key'\r\n",
        "    ,'Summary'  :   'summary'\r\n",
        "    ,'Issue Type'   :   'issue_type'\r\n",
        "    ,'Status'   :   'status'\r\n",
        "    ,'Priority' :   'priority'\r\n",
        "    ,'Resolution'   :   'resolution'\r\n",
        "    ,'Current Assignee' :   'current_assignee'\r\n",
        "    ,'Applicant'    :   'applicant'\r\n",
        "    ,'Created'  :   'created_date_time'\r\n",
        "    ,'Updated'  :   'updated_date_time'\r\n",
        "    ,'Due Date' :   'due_date'\r\n",
        "    ,'Description'  :   'description1'\r\n",
        "    ,'Advance Necessary?*'  :   'advance_necessary'\r\n",
        "    ,'Advance Amount(CNY)'  :   'advance_amount_in_cny'\r\n",
        "    ,'Book Air Ticket*' :   'book_air_ticket'\r\n",
        "    ,'International Assignment' :   'international_assignment'\r\n",
        "    ,'Start Date'   :   'start_date'\r\n",
        "    ,'Total Hours'  :   'total_hours'\r\n",
        "    ,'Approved Training Application Number' :   'approved_training_application_number'\r\n",
        "    ,'End Date' :   'end_date'\r\n",
        "    ,'Training Type'    :   'training_type'\r\n",
        "    ,'Training Venue'   :   'training_venue'\r\n",
        "    ,'due date call result' :   'due_date_call_result'\r\n",
        "    ,'Validation Result'    :   'validation_result'\r\n",
        "    ,'apcntr.field.trainingProvider'    :   'training_provider'\r\n",
        "    ,'apcntr.field.trainingType'    :   'training_type_apcntr'\r\n",
        "    ,'apcntr.field.trainingNeedsCaused' :   'training_needs_caused'\r\n",
        "    ,'apcntr.field.thisTrainingCost'    :   'training_cost'\r\n",
        "    ,'apcntr.field.tmpTrainingType' :   'tmp_training_type'\r\n",
        "    ,'To Place Validation Result'   :   'to_place_validation_Result'\r\n",
        "    ,'To Place Validation'  :   'to_place_validation'\r\n",
        "    ,'apcntr.field.estimatedTravelExpenses' :   'estimated_travel_expenses'\r\n",
        "    ,'from:'    :   'from'\r\n",
        "    ,'apcntr.field.participantNumber'   :   'participantNumber'\r\n",
        "    ,'to:'  :   'to'\r\n",
        "    ,'apcntr.field.estimatedOtherCost'  :   'estimated_other_cost'\r\n",
        "    ,'apcntr.field.estimatedTotalCost'  :   'estimated_total_cost'\r\n",
        "    ,'common.field.employee.companycode'    :   'employee_company_code'\r\n",
        "    ,'From Place*'  :   'from_place'\r\n",
        "    ,'To Place*'    :   'to_place'\r\n",
        "    ,'From Place Validation Result' :   'from_place_validation_result'\r\n",
        "    ,'From Place Validation'    :   'from_place_validation'\r\n",
        "    ,'From City MD' :   'from_city_MD'\r\n",
        "    ,'Org.Unit' :   'org_unit'\r\n",
        "    ,'Charge to*'   :   'charge_to'\r\n",
        "    ,'Charged to Company*'  :   'charged_to_company'\r\n",
        "    ,'Charged to Cost Center*'  :   'charged_to_cost_center'\r\n",
        "    ,'Temp Dates Between'   :   'temp_dates_between'\r\n",
        "    ,'Internal order number*'   :   'internal_order_number'\r\n",
        "    ,'Report To'    :   'report_to'\r\n",
        "    ,'Application reason*'  :   'application_reason'\r\n",
        "    ,'Tel'  :   'Telephone1'\r\n",
        "    ,'Employee Number (WorkON Profile)' :   'employee_number_workon_profile'\r\n",
        "    ,'Telephone:'   :   'Telephone2'\r\n",
        "    ,'Training Objectives'  :   'training_objectives'\r\n",
        "    ,'Training Fee' :   'training_fee'\r\n",
        "    ,'Applied Training Topics'  :   'applied_training_topics'\r\n",
        "    ,'Currency' :   'currency'\r\n",
        "    ,'CCView'   :   'CCView'\r\n",
        "    ,'Supervisor'   :   'supervisor'\r\n",
        "    ,'Advance Return Confirmation'  :   'advance_return_confirmation'\r\n",
        "    ,'Travel back date' :   'travel_back_date'\r\n",
        "    ,'Training Days'    :   'training_days'\r\n",
        "    ,'Personnel Number*'    :   'personnel_number'\r\n",
        "    ,'Approvers*'   :   'approvers'\r\n",
        "    ,'Advance Amend Account'    :   'advance_amend_account'\r\n",
        "    ,'Global CC'    :   'global_CC'\r\n",
        "    ,'Planned Duration*:'   :   'planned_duration'\r\n",
        "    ,'Planned Start Date*:' :   'planned_start_date'\r\n",
        "    ,'Planned Start Date Text'  :   'planned_start_date_text'\r\n",
        "    ,'Planned End Date*:'   :   'planned_end_date'\r\n",
        "    ,'Planned End Date Text'    :   'planned_end_date_text'\r\n",
        "    ,'Global CC 2'  :   'global_CC_2'\r\n",
        "    ,'Travel Arranger*' :   'travel_arranger'\r\n",
        "    ,'Travel to *'  :   'travel_to'\r\n",
        "    ,'Created date' :   'created_date'\r\n",
        "    ,'Name' :   'name'\r\n",
        "    ,'Applicant NT/Display Name'    :   'applicant_NT_display_name'\r\n",
        "    ,'Apply Visa?'  :   'apply_visa'\r\n",
        "    ,'Visa To Where'    :   'visa_to_where'\r\n",
        "    ,'Visa arranger'    :   'visa_arranger'\r\n",
        "    ,'Applied Training Request Number'  :   'applied_training_request_number'\r\n",
        "    ,'Expense Actual Booking Cost Center*'  :   'expense_actual_booking_cost_center'\r\n",
        "    ,'Training Related*'    :   'training_related'\r\n",
        "    ,'Travel Type*.1' :   'travel_type'\r\n",
        "    ,'※Pick up at:' :   'pick_up_at'\r\n",
        "    ,'※Pick up at:' :   'pick_up_at'\r\n",
        "    ,'to:'  :   'to'\r\n",
        "    ,'Visa Application:'    :   'visa_application'\r\n",
        "    ,'Special Requests:'    :   'special_requests'\r\n",
        "    ,'Name on Passport:*'   :   'name_on_passport'\r\n",
        "    ,'Personal ID No.*' :   'personal_ID_No'\r\n",
        "    ,'Passport Number:*'    :   'passport_number'\r\n",
        "    ,'Purpose:*'    :   'purpose'\r\n",
        "    ,'from:'    :   'from'\r\n",
        "    ,'Date of Birth:*'  :   'date_of_birth'\r\n",
        "    ,'Training / Seminar schedule'  :   'training_seminar_schedule'\r\n",
        "    ,'Chinese Name:'    :   'chinese_name'\r\n",
        "    ,'Flight Requests:*'    :   'flight_requests'\r\n",
        "    ,'E-ticket / Confirmation from Travel Coordinator'  :   'E_ticket_confirmation_from_travel_coordinator'\r\n",
        "    ,'Description:*'    :   'description2'\r\n",
        "    ,'Departure Time / Flight:' :   'departure_time_flight'\r\n",
        "    ,'Date of Expiry:*' :   'date_of_expiry'\r\n",
        "    ,'Arrival Time / Flight:'   :   'arrival_time_flight'\r\n",
        "    ,'WBS number*'  :   'WBS_number'\r\n",
        "    ,'Charge to other cost center *'    :   'charge_to_other_cost_center'\r\n",
        "    ,'Remark'   :   'remark'\r\n",
        "    ,'HoD Approval(for special requisition)'    :   'HoD_approval_for_special_requisition'\r\n",
        "    ,'Replace Company'  :   'replace_company'\r\n",
        "    ,'Travel Auditor*'  :   'travel_auditor'\r\n",
        "    ,'Additional comment'   :   'additional_comment'\r\n",
        "    ,'Days Before Go'   :   'days_before_go'\r\n",
        "    ,'Company Code' :   'company_code'\r\n",
        "    ,'Cost Center'  :   'cost_center'\r\n",
        "    ,'CWT'  :   'CWT'\r\n",
        "    ,'Pick-up Service:*'    :   'pick_up_service'\r\n",
        "    ,'Rental Car for oversea:*' :   'rental_car_for_oversea'\r\n",
        "    ,'Dates Between'    :   'dates_between'\r\n",
        "}   \r\n",
        "\r\n",
        "for old_name , new_name in cols.items():\r\n",
        "    df = df.withColumnRenamed(old_name, new_name)\r\n",
        "\r\n",
        "# todo 3: 数据处理      \r\n",
        "formatted_endtime = datetime.now()\r\n",
        "formatted_endtime += timedelta(hours=8)\r\n",
        "etl_load_time = formatted_endtime.strftime(\"%Y-%m-%d %H:%M:%S\")\r\n",
        "\r\n",
        "df = df.select(list(cols.values())) \\\r\n",
        "        .dropDuplicates() \\\r\n",
        "        .withColumn('etl_load_time', F.lit(etl_load_time)) \\\r\n",
        "        .withColumn('personnel_number',F.regexp_replace(df['personnel_number'],'\\'','')) \\\r\n",
        "        .toPandas()\r\n",
        "\r\n",
        "display(df)"
      ]
    },
    {
      "cell_type": "code",
      "execution_count": 19,
      "outputs": [],
      "metadata": {
        "jupyter": {
          "source_hidden": false,
          "outputs_hidden": false
        },
        "nteract": {
          "transient": {
            "deleting": false
          }
        }
      },
      "source": [
        "# todo 4：数据落盘\r\n",
        "save_path = 'abfss://data-warehouse-dwd@dlsaaddpnorth3001.dfs.core.chinacloudapi.cn/dwd_fi_te_travel_app_header_cn.parquet'\r\n",
        "df.to_parquet(save_path,index=False)"
      ]
    },
    {
      "cell_type": "code",
      "execution_count": 20,
      "outputs": [],
      "metadata": {
        "jupyter": {
          "source_hidden": false,
          "outputs_hidden": false
        },
        "nteract": {
          "transient": {
            "deleting": false
          }
        }
      },
      "source": [
        "# todo 5：数据落盘csv\r\n",
        "save_path = 'abfss://data-warehouse-dwd@dlsaaddpnorth3001.dfs.core.chinacloudapi.cn/dwd_fi_te_travel_app_header_cn.csv'\r\n",
        "df.to_csv(save_path,index=False,header=True)"
      ]
    }
  ],
  "metadata": {
    "description": null,
    "save_output": true,
    "kernelspec": {
      "name": "synapse_pyspark",
      "display_name": "Synapse PySpark"
    },
    "language_info": {
      "name": "python"
    }
  }
}