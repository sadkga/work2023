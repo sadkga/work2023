{
  "nbformat": 4,
  "nbformat_minor": 2,
  "cells": [
    {
      "cell_type": "code",
      "execution_count": 29,
      "outputs": [],
      "metadata": {
        "jupyter": {
          "source_hidden": false,
          "outputs_hidden": false
        },
        "nteract": {
          "transient": {
            "deleting": false
          }
        }
      },
      "source": [
        "import requests\r\n",
        "from bs4 import BeautifulSoup\r\n",
        "import time\r\n",
        "from datetime import datetime\r\n",
        "import pyspark.sql.types as T\r\n",
        "import pandas as pd"
      ]
    },
    {
      "cell_type": "code",
      "execution_count": 30,
      "outputs": [],
      "metadata": {
        "jupyter": {
          "outputs_hidden": false
        },
        "collapsed": false
      },
      "source": [
        "# todo 1: 从国家统计局爬取省市区数据\r\n",
        "\r\n",
        "class Administrative(object):\r\n",
        "    def main(self):\r\n",
        "\r\n",
        "        # 年份\r\n",
        "        current_date = datetime.now()\r\n",
        "        year = 2023\r\n",
        "        base_url = 'http://www.stats.gov.cn/sj/tjbz/tjyqhdmhcxhfdm/%s/' % year\r\n",
        "        trs = self.get_response(base_url, 'provincetr')\r\n",
        "        direct_province = ['北京市','天津市','重庆市','上海市']\r\n",
        "        direct_district = ['省直辖县级行政区划','自治区直辖县级行政区划']\r\n",
        "\r\n",
        "        result = [] # 数据列表\r\n",
        "        for tr in trs:  # 循环每一行\r\n",
        "            for td in tr:  # 循环每个省\r\n",
        "                if td.a is None:\r\n",
        "                    continue\r\n",
        "                href_url = td.a.get('href')\r\n",
        "                province_name = td.a.get_text()\r\n",
        "                province_code = str(href_url.split(\".\")[0]) + \"0000000000\";\r\n",
        "                province_url = base_url + href_url\r\n",
        "\r\n",
        "                if province_name in direct_province:\r\n",
        "                    data = self.result_schema(province_code,province_name,province_code,province_name,1)\r\n",
        "                    result.append(data)\r\n",
        "                    continue\r\n",
        "\r\n",
        "                trs = self.get_response(province_url, None)\r\n",
        "                for tr in trs[1:]:  # 循环每个市\r\n",
        "                    city_code = tr.find_all('td')[0].string\r\n",
        "                    city_name = tr.find_all('td')[1].string\r\n",
        "                    \r\n",
        "\r\n",
        "                    if (city_name in direct_district) and tr.find_all('td')[1].a.get('href') is not None:\r\n",
        "                        city_url = base_url + tr.find_all('td')[1].a.get('href')\r\n",
        "                        trs = self.get_response(city_url, None)\r\n",
        "                        for tr in trs[1:]:  # 循环每个区县\r\n",
        "                            county_code = tr.find_all('td')[0].string\r\n",
        "                            county_name = tr.find_all('td')[1].string\r\n",
        "                            data = self.result_schema(county_code,county_name,province_code,province_name,3)\r\n",
        "                            result.append(data)\r\n",
        "                        continue\r\n",
        "                    data = self.result_schema(city_code,city_name,province_code,province_name,2)\r\n",
        "                    result.append(data)\r\n",
        "                    # time.sleep(1)\r\n",
        "                time.sleep(1)\r\n",
        "            time.sleep(1)\r\n",
        "\r\n",
        "        df = pd.DataFrame(result)\r\n",
        "        return df\r\n",
        " \r\n",
        "    @staticmethod\r\n",
        "    def get_response(url, attr):\r\n",
        "        response = requests.get(url)\r\n",
        "        response.encoding = 'utf8'  # 编码转换\r\n",
        "        soup = BeautifulSoup(response.text, features=\"html.parser\")\r\n",
        "        table = soup.find_all('tbody')[1].tbody.tbody.table\r\n",
        "\r\n",
        "        if attr:\r\n",
        "            trs = table.find_all('tr', attrs={'class': attr})\r\n",
        "        else:\r\n",
        "            trs = table.find_all('tr')\r\n",
        "        return trs\r\n",
        "\r\n",
        "    @staticmethod\r\n",
        "    def result_schema(code,name,parent_code,parent_name,level):\r\n",
        "        data = {'city_code_external' : code\r\n",
        "                ,'city_name_local_language' : name\r\n",
        "                ,'city_name_English' : ''\r\n",
        "                ,'province_code' : parent_code\r\n",
        "                ,'province_name_local_language' : parent_name\r\n",
        "                ,'province_name_English' : ''\r\n",
        "                # ,'area_level' : level\r\n",
        "                ,'ISO_country_code' : 'CN'\r\n",
        "                ,'country_name_local_language' : '中国'\r\n",
        "                ,'country_name_English' : 'China'\r\n",
        "                }\r\n",
        "        return data\r\n",
        " \r\n",
        "if __name__ == '__main__':\r\n",
        "    df = Administrative().main()\r\n",
        "    display(df)\r\n",
        ""
      ]
    },
    {
      "cell_type": "code",
      "execution_count": 31,
      "outputs": [],
      "metadata": {
        "jupyter": {
          "source_hidden": false,
          "outputs_hidden": true
        },
        "nteract": {
          "transient": {
            "deleting": false
          }
        },
        "collapsed": false
      },
      "source": [
        "# todo 2: 读取航空国外数据\r\n",
        "read_path = 'abfss://data-warehouse-dim@dlsaaddpnorth3001.dfs.core.chinacloudapi.cn/dim_aviation_city_code_mf.csv'\r\n",
        "df_aviation = pd.read_csv(read_path).query('country_region_name !=\"中国\"')\r\n",
        "\r\n",
        "df_aviation['Province code'] = ''\r\n",
        "df_aviation['Province_name_local_language'] = ''\r\n",
        "df_aviation['Province_name_English'] = ''\r\n",
        "df_aviation['country_name_English'] = ''\r\n",
        "\r\n",
        "new_index = { 'aviation_city_code'  :   'city_code_external'\r\n",
        "            , 'city_name_local_language'    :   'city_name_local_language'\r\n",
        "            , 'city_name_EN'    :   'city_name_English'\r\n",
        "            , 'Province code'   :   'province_code'\r\n",
        "            , 'Province_name_local_language'    :   'province_name_local_language'\r\n",
        "            , 'Province_name_English'   :   'province_name_English'\r\n",
        "            , 'country_region_code' :   'ISO_country_code'\r\n",
        "            , 'country_region_name' :   'country_name_local_language'\r\n",
        "            , 'country_name_English'    :   'country_name_English'\r\n",
        "            }\r\n",
        "df_aviation = df_aviation.rename(columns=new_index)\r\n",
        "group_col = list(new_index.values())\r\n",
        "group_col.remove('city_code_external')\r\n",
        "print(group_col)\r\n",
        "df_aviation = df_aviation.groupby(group_col)['city_code_external'].agg(lambda x: '/'.join(map(str,x))).reset_index() \r\n",
        "df_aviation['city_name_local_language'] = df_aviation['city_name_local_language'].str.strip() # 去除行首空格\r\n",
        "df_aviation = df_aviation[new_index.values()]\r\n",
        "\r\n",
        "    \r\n",
        "\r\n",
        "# todo 3: 聚合\r\n",
        "df_result = pd.concat([df,df_aviation])\r\n",
        "display(df_result)"
      ]
    },
    {
      "cell_type": "code",
      "execution_count": 32,
      "outputs": [],
      "metadata": {
        "jupyter": {
          "source_hidden": false,
          "outputs_hidden": false
        },
        "nteract": {
          "transient": {
            "deleting": false
          }
        },
        "collapsed": false
      },
      "source": [
        "# todo4 : 写入文件\r\n",
        "save_path = 'abfss://data-warehouse-dim@dlsaaddpnorth3001.dfs.core.chinacloudapi.cn/dim_city_mf.csv'\r\n",
        "df_result.to_csv(save_path, mode='w',index=False, header=True)"
      ]
    }
  ],
  "metadata": {
    "description": null,
    "save_output": true,
    "kernelspec": {
      "name": "synapse_pyspark",
      "display_name": "Synapse PySpark"
    },
    "language_info": {
      "name": "python"
    }
  }
}