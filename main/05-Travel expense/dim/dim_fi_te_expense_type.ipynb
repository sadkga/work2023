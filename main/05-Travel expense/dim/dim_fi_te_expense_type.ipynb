{
  "nbformat": 4,
  "nbformat_minor": 2,
  "cells": [
    {
      "cell_type": "code",
      "execution_count": 37,
      "outputs": [],
      "metadata": {
        "collapsed": false
      },
      "source": [
        "import pandas as pd\r\n",
        "\r\n",
        "read_path = 'abfss://data-warehouse-ods@dlsaaddpnorth3001.dfs.core.chinacloudapi.cn/ods_mau_expense_type_cn_mf.csv'\r\n",
        "df = pd.read_csv(read_path)\r\n",
        "\r\n",
        "cols_name = {\r\n",
        "    'Expense details Type'  :   'expense_type'\r\n",
        "    ,'自定义费用名称1'   :   'travel_or_not'\r\n",
        "    ,'自定义费用名称2'   :   'domestic_or_oversea'\r\n",
        "    ,'自定义费用名称3'   :   'expense_type_short_description'\r\n",
        "    ,'自定义费用名称翻译'    :   'expense_type_long_description'\r\n",
        "    ,'GL'    :   'general_ledge_account'\r\n",
        "    ,'Description'   :   'general_ledge_account_description'\r\n",
        "}\r\n",
        "\r\n",
        "df.rename(columns=cols_name,inplace=True)\r\n",
        "\r\n",
        "# 写入文件\r\n",
        "save_path = 'abfss://data-warehouse-dim@dlsaaddpnorth3001.dfs.core.chinacloudapi.cn/dim_fi_te_expense_type.csv'\r\n",
        "df.to_csv(save_path, mode='w',index=False, header=True)\r\n",
        ""
      ]
    }
  ],
  "metadata": {
    "description": null,
    "save_output": true,
    "kernelspec": {
      "name": "synapse_pyspark",
      "display_name": "Synapse PySpark"
    },
    "language_info": {
      "name": "python"
    }
  }
}