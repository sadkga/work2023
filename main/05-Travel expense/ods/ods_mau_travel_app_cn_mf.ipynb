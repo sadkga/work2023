{
  "nbformat": 4,
  "nbformat_minor": 2,
  "cells": [
    {
      "cell_type": "code",
      "execution_count": 10,
      "outputs": [
        {
          "output_type": "display_data",
          "data": {
            "application/vnd.livy.statement-meta+json": {
              "spark_pool": null,
              "session_id": "382",
              "statement_id": -1,
              "state": "finished",
              "livy_statement_state": "available",
              "queued_time": "2023-12-13T07:59:17.2980084Z",
              "session_start_time": null,
              "execution_start_time": "2023-12-13T07:59:17.8039133Z",
              "execution_finish_time": "2023-12-13T07:59:17.8041725Z",
              "spark_jobs": null,
              "parent_msg_id": "143a9b2d-43e0-4ac9-9bcd-59531baafc2c"
            },
            "text/plain": "StatementMeta(, 382, -1, Finished, Available)"
          },
          "metadata": {}
        },
        {
          "output_type": "stream",
          "name": "stdout",
          "text": "请设置receiver_email、subject、body，以发送邮件\n"
        }
      ],
      "metadata": {
        "jupyter": {
          "source_hidden": false,
          "outputs_hidden": false
        },
        "nteract": {
          "transient": {
            "deleting": false
          }
        }
      },
      "source": [
        "%run TEST/WZX/Test/send_email"
      ]
    },
    {
      "cell_type": "code",
      "execution_count": 4,
      "outputs": [
        {
          "output_type": "display_data",
          "data": {
            "application/vnd.livy.statement-meta+json": {
              "spark_pool": "aasparkpool001",
              "session_id": "882",
              "statement_id": 5,
              "state": "finished",
              "livy_statement_state": "available",
              "queued_time": "2024-01-22T01:37:14.5400828Z",
              "session_start_time": null,
              "execution_start_time": "2024-01-22T01:37:14.7527426Z",
              "execution_finish_time": "2024-01-22T01:37:17.6297817Z",
              "spark_jobs": null,
              "parent_msg_id": "d96e1473-f7fe-4697-970c-e450e1c49719"
            },
            "text/plain": "StatementMeta(aasparkpool001, 882, 5, Finished, Available)"
          },
          "metadata": {}
        }
      ],
      "metadata": {
        "jupyter": {
          "source_hidden": false,
          "outputs_hidden": false
        },
        "nteract": {
          "transient": {
            "deleting": false
          }
        }
      },
      "source": [
        "# 导包\r\n",
        "from notebookutils import mssparkutils  \r\n",
        "import pandas as pd\r\n",
        "import os\r\n",
        "from datetime import datetime,timedelta    "
      ]
    },
    {
      "cell_type": "code",
      "execution_count": 5,
      "outputs": [
        {
          "output_type": "display_data",
          "data": {
            "application/vnd.livy.statement-meta+json": {
              "spark_pool": "aasparkpool001",
              "session_id": "882",
              "statement_id": 6,
              "state": "finished",
              "livy_statement_state": "available",
              "queued_time": "2024-01-22T01:37:19.1557988Z",
              "session_start_time": null,
              "execution_start_time": "2024-01-22T01:37:19.2876146Z",
              "execution_finish_time": "2024-01-22T01:37:20.1475981Z",
              "spark_jobs": null,
              "parent_msg_id": "cc96024c-51e3-4003-a6a8-e4f72ced2f28"
            },
            "text/plain": "StatementMeta(aasparkpool001, 882, 6, Finished, Available)"
          },
          "metadata": {}
        }
      ],
      "metadata": {
        "jupyter": {
          "source_hidden": false,
          "outputs_hidden": false
        },
        "nteract": {
          "transient": {
            "deleting": false
          }
        }
      },
      "source": [
        "receiver_email = ['external.Zhaoxiang.Wang@cn.bosch.com','zhaoxiang_wang@leansight.cn','fei.zhao2@cn.bosch.com'] # set email \r\n",
        "subject = 'Bosch Job Alarm: Travel Expense'\r\n",
        "body = 'Travel Expense 差旅数据未更新, 请及时确认————This is an alarm email from python. Please do not reply'"
      ]
    },
    {
      "cell_type": "code",
      "execution_count": 6,
      "outputs": [
        {
          "output_type": "display_data",
          "data": {
            "application/vnd.livy.statement-meta+json": {
              "spark_pool": "aasparkpool001",
              "session_id": "882",
              "statement_id": 7,
              "state": "finished",
              "livy_statement_state": "available",
              "queued_time": "2024-01-22T01:37:21.2838679Z",
              "session_start_time": null,
              "execution_start_time": "2024-01-22T01:37:21.438264Z",
              "execution_finish_time": "2024-01-22T01:37:22.0209342Z",
              "spark_jobs": null,
              "parent_msg_id": "9b12a0c6-fa52-4c42-bc4a-57d8b9a85b0b"
            },
            "text/plain": "StatementMeta(aasparkpool001, 882, 7, Finished, Available)"
          },
          "metadata": {}
        },
        {
          "output_type": "execute_result",
          "data": {
            "text/plain": "True"
          },
          "execution_count": 15,
          "metadata": {}
        }
      ],
      "metadata": {
        "jupyter": {
          "source_hidden": false,
          "outputs_hidden": false
        },
        "nteract": {
          "transient": {
            "deleting": false
          }
        }
      },
      "source": [
        "mssparkutils.fs.unmount('/mnt/bosch-dw-integration-layer')"
      ]
    },
    {
      "cell_type": "code",
      "execution_count": 7,
      "outputs": [
        {
          "output_type": "display_data",
          "data": {
            "application/vnd.livy.statement-meta+json": {
              "spark_pool": "aasparkpool001",
              "session_id": "882",
              "statement_id": 8,
              "state": "finished",
              "livy_statement_state": "available",
              "queued_time": "2024-01-22T01:37:23.9888396Z",
              "session_start_time": null,
              "execution_start_time": "2024-01-22T01:37:24.1257666Z",
              "execution_finish_time": "2024-01-22T01:37:35.3428852Z",
              "spark_jobs": null,
              "parent_msg_id": "f17f05d7-f8c9-41bd-a053-ef4a791594ed"
            },
            "text/plain": "StatementMeta(aasparkpool001, 882, 8, Finished, Available)"
          },
          "metadata": {}
        }
      ],
      "metadata": {
        "jupyter": {
          "source_hidden": false,
          "outputs_hidden": false
        },
        "nteract": {
          "transient": {
            "deleting": false
          }
        }
      },
      "source": [
        "# 挂载blob\r\n",
        "mssparkutils.fs.mount(\r\n",
        "    \"wasbs://bosch-dw-integration-layer@proddataplatcn3blob01.blob.core.chinacloudapi.cn\",\r\n",
        "    \"/mnt/bosch-dw-integration-layer\",\r\n",
        "    {\"LinkedService\" : \"AzureBlobStorage_proddataplatcn3blob01\"}\r\n",
        ")\r\n",
        "\r\n",
        "path = mssparkutils.fs.getMountPath(\"/mnt/bosch-dw-integration-layer\")"
      ]
    },
    {
      "cell_type": "code",
      "execution_count": 29,
      "outputs": [
        {
          "output_type": "display_data",
          "data": {
            "application/vnd.livy.statement-meta+json": {
              "spark_pool": "aasparkpool001",
              "session_id": "882",
              "statement_id": 30,
              "state": "finished",
              "livy_statement_state": "available",
              "queued_time": "2024-01-22T02:10:55.0120035Z",
              "session_start_time": null,
              "execution_start_time": "2024-01-22T02:10:55.1721634Z",
              "execution_finish_time": "2024-01-22T02:10:55.3499162Z",
              "spark_jobs": null,
              "parent_msg_id": "2737139c-8b84-4cbd-8493-4428f59bc583"
            },
            "text/plain": "StatementMeta(aasparkpool001, 882, 30, Finished, Available)"
          },
          "metadata": {}
        },
        {
          "output_type": "stream",
          "name": "stdout",
          "text": "==================travel expense: Travel=====================\n/synfs/882/mnt/bosch-dw-integration-layer/manual/AA_CTG/Travel Appication/travel_application_20231201_20231231.xlsx\n"
        }
      ],
      "metadata": {
        "jupyter": {
          "source_hidden": false,
          "outputs_hidden": false
        },
        "nteract": {
          "transient": {
            "deleting": false
          }
        }
      },
      "source": [
        "print('==================travel expense: Travel=====================')\r\n",
        "def get_last_month():\r\n",
        "    \"\"\" \r\n",
        "     * @ message : 获取上月与本月月份名\r\n",
        "     * @ return   [list] 月份\r\n",
        "    \"\"\"\r\n",
        "    current_date = datetime.now()\r\n",
        "    current_year = current_date.year\r\n",
        "    current_month = current_date.month\r\n",
        "    previous_month = current_month - 1 if current_month > 1 else 12\r\n",
        "    previous_year = current_year if current_month > 1 else current_year -1\r\n",
        "    last_month = str(previous_year) + str(previous_month).zfill(2)\r\n",
        "    now_month = str(current_year) + str(current_month).zfill(2)\r\n",
        "    month_list = [last_month] # remove current month\r\n",
        "    return month_list\r\n",
        "\r\n",
        "\r\n",
        "def data_need(blobs):\r\n",
        "    \"\"\" \r\n",
        "     * @ message : 获取需要的blob\r\n",
        "     * @ param2   [type] blobs: blobs\r\n",
        "     * @ return   [type]\r\n",
        "    \"\"\"\r\n",
        "    need_blobs = []\r\n",
        "    for i in blobs:\r\n",
        "        split_blob = i.split('_')\r\n",
        "        if len(split_blob) > 2:\r\n",
        "            blob_name = i.split('_')[-2][:6]\r\n",
        "        else:\r\n",
        "            blob_name = i\r\n",
        "        if blob_name not in get_last_month():\r\n",
        "            continue\r\n",
        "        need_blobs.append(i)\r\n",
        "        \r\n",
        "    return need_blobs\r\n",
        "\r\n",
        "def hand_file():\r\n",
        "    path = mssparkutils.fs.getMountPath(\"/mnt/bosch-dw-integration-layer\")\r\n",
        "    root = path + '/manual/AA_CTG/Travel Appication'\r\n",
        "    files = os.listdir(root)\r\n",
        "    files = data_need(files) # enble filter\r\n",
        "    try:\r\n",
        "        file_path = os.path.join(root,files[0])\r\n",
        "        print(file_path)\r\n",
        "        return file_path\r\n",
        "    except:\r\n",
        "        print('=======未识别到上月差旅数据=========')\r\n",
        "        send_to_email(receiver_email, subject, body)\r\n",
        "        mssparkutils.notebook.exit()\r\n",
        "file_path = hand_file()"
      ]
    },
    {
      "cell_type": "code",
      "execution_count": null,
      "outputs": [],
      "metadata": {
        "jupyter": {
          "source_hidden": false,
          "outputs_hidden": false
        },
        "nteract": {
          "transient": {
            "deleting": false
          }
        },
        "collapsed": false
      },
      "source": [
        "# 处理数据\r\n",
        "df_pd = pd.read_excel(file_path,dtype=str)\r\n",
        "df_pd = df_pd.dropna(axis=1,how=\"all\")  # 去掉整列都是空值的列\r\n",
        "\r\n",
        "df_pd.columns = df_pd.iloc[2]       \r\n",
        "df = df_pd.iloc[3:-1,:]\r\n",
        "\r\n",
        "for col in df.columns:  # 转换nan 列名\r\n",
        "    if pd.isna(col):\r\n",
        "        df = df.rename(columns ={col:'trip_itinerary'})   \r\n",
        "\r\n",
        "\r\n",
        "ods_path = 'abfss://data-warehouse-ods@dlsaaddpnorth3001.dfs.core.chinacloudapi.cn/ods_mau_travel_app_cn_mf.csv' # path\r\n",
        "di_path = 'abfss://data-warehouse-ods@dlsaaddpnorth3001.dfs.core.chinacloudapi.cn/ods_mau_travel_app_cn_mi.csv' # path\r\n",
        "formatted_endtime = datetime.now()\r\n",
        "formatted_endtime += timedelta(hours=8)\r\n",
        "etl_load_time = formatted_endtime.strftime(f\"%Y-%m-%d %H:%M:%S\")    # etl_load_time\r\n",
        "\r\n",
        "df1 = df\r\n",
        "df1['etl_load_time'] = etl_load_time\r\n",
        "df1.to_csv(di_path,index=False, header=True)    # 保持数据格式一致性\r\n",
        "\r\n",
        "df1 = pd.read_csv(di_path,dtype=str).drop('etl_load_time',axis=1) \r\n",
        "ods_df = pd.read_csv(ods_path,dtype=str).drop('etl_load_time',axis=1) # read\r\n",
        "\r\n",
        "try:\r\n",
        "    result = pd.concat([ods_df, df1]).reset_index(drop=True).drop_duplicates()  # handle\r\n",
        "except Exception as e:\r\n",
        "    print(f'===========源数据增加列{e}============')\r\n",
        "    # send_to_email(receiver_email, subject, body1)\r\n",
        "    mssparkutils.notebook.exit()\r\n",
        "\r\n",
        "result['etl_load_time'] = etl_load_time\r\n",
        "\r\n",
        "mssparkutils.fs.rm(di_path)\r\n",
        "result.to_csv(ods_path,index=False, header=True) # save\r\n",
        ""
      ]
    }
  ],
  "metadata": {
    "description": null,
    "save_output": true,
    "kernelspec": {
      "name": "synapse_pyspark",
      "display_name": "Synapse PySpark"
    },
    "language_info": {
      "name": "python"
    },
    "synapse_widget": {
      "version": "0.1",
      "state": {}
    }
  }
}