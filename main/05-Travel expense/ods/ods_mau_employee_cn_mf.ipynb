{
  "nbformat": 4,
  "nbformat_minor": 2,
  "cells": [
    {
      "cell_type": "code",
      "execution_count": 7,
      "outputs": [],
      "metadata": {},
      "source": [
        "# 导包\r\n",
        "from notebookutils import mssparkutils  \r\n",
        "from openpyxl import load_workbook\r\n",
        "import pandas as pd\r\n",
        "import os\r\n",
        "from datetime import datetime,timedelta    \r\n",
        "\r\n",
        "# 挂载blob\r\n",
        "mssparkutils.fs.mount(\r\n",
        "    \"wasbs://bosch-dw-integration-layer@proddataplatcn3blob01.blob.core.chinacloudapi.cn\",\r\n",
        "    \"/mnt/bosch-dw-integration-layer\",\r\n",
        "    {\"LinkedService\" : \"AzureBlobStorage_proddataplatcn3blob01\"}\r\n",
        ")\r\n",
        "\r\n",
        "path = mssparkutils.fs.getMountPath(\"/mnt/bosch-dw-integration-layer\")\r\n",
        "\r\n",
        "# 获得处理的文件\r\n",
        "root = path + '/manual/AA_CTG/Employee'\r\n",
        "files = os.listdir(root)\r\n",
        "file_path = os.path.join(root,files[0])\r\n",
        "print(file_path)\r\n",
        ""
      ]
    },
    {
      "cell_type": "code",
      "execution_count": 8,
      "outputs": [],
      "metadata": {
        "jupyter": {
          "source_hidden": false,
          "outputs_hidden": false
        },
        "nteract": {
          "transient": {
            "deleting": false
          }
        },
        "collapsed": false
      },
      "source": [
        "df = pd.read_excel(file_path,dtype=str)\r\n",
        "# 写入文件\r\n",
        "save_path = 'abfss://data-warehouse-ods@dlsaaddpnorth3001.dfs.core.chinacloudapi.cn/ods_mau_employee_cn_mf.csv'\r\n",
        "df.to_csv(save_path, mode='w',index=False, header=True)"
      ]
    }
  ],
  "metadata": {
    "description": null,
    "save_output": true,
    "kernelspec": {
      "name": "synapse_pyspark",
      "display_name": "Synapse PySpark"
    },
    "language_info": {
      "name": "python"
    }
  }
}