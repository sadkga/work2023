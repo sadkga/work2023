{
  "nbformat": 4,
  "nbformat_minor": 2,
  "cells": [
    {
      "cell_type": "code",
      "execution_count": 5,
      "outputs": [
        {
          "output_type": "display_data",
          "data": {
            "application/vnd.livy.statement-meta+json": {
              "spark_pool": "aasparkpool001",
              "session_id": "357",
              "statement_id": 6,
              "state": "finished",
              "livy_statement_state": "available",
              "queued_time": "2023-12-06T09:26:37.5769652Z",
              "session_start_time": "2023-12-06T09:26:37.6189036Z",
              "execution_start_time": "2023-12-06T09:26:37.771857Z",
              "execution_finish_time": "2023-12-06T09:26:40.6476377Z",
              "spark_jobs": null,
              "parent_msg_id": "5d901638-fdfc-4db7-9add-e51b9f67beab"
            },
            "text/plain": "StatementMeta(aasparkpool001, 357, 6, Finished, Available)"
          },
          "metadata": {}
        },
        {
          "output_type": "stream",
          "name": "stdout",
          "text": "/synfs/357/mnt/bosch-dw-integration-layer/manual/AA_CTG/aviation city code definition/city code definition.xlsx\n"
        }
      ],
      "metadata": {},
      "source": [
        "# 导包\r\n",
        "from notebookutils import mssparkutils  \r\n",
        "from openpyxl import load_workbook\r\n",
        "import pandas as pd\r\n",
        "import os\r\n",
        "from datetime import datetime,timedelta    \r\n",
        "\r\n",
        "# 挂载blob\r\n",
        "mssparkutils.fs.mount(\r\n",
        "    \"wasbs://bosch-dw-integration-layer@proddataplatcn3blob01.blob.core.chinacloudapi.cn\",\r\n",
        "    \"/mnt/bosch-dw-integration-layer\",\r\n",
        "    {\"LinkedService\" : \"AzureBlobStorage_proddataplatcn3blob01\"}\r\n",
        ")\r\n",
        "\r\n",
        "path = mssparkutils.fs.getMountPath(\"/mnt/bosch-dw-integration-layer\")\r\n",
        "\r\n",
        "# 获得处理的文件\r\n",
        "root = path + '/manual/AA_CTG/aviation city code definition'\r\n",
        "files = os.listdir(root)\r\n",
        "file_path = os.path.join(root,files[0])\r\n",
        "print(file_path)"
      ]
    },
    {
      "cell_type": "code",
      "execution_count": 6,
      "outputs": [
        {
          "output_type": "display_data",
          "data": {
            "application/vnd.livy.statement-meta+json": {
              "spark_pool": "aasparkpool001",
              "session_id": "357",
              "statement_id": 7,
              "state": "finished",
              "livy_statement_state": "available",
              "queued_time": "2023-12-06T09:27:04.9303545Z",
              "session_start_time": null,
              "execution_start_time": "2023-12-06T09:27:05.345568Z",
              "execution_finish_time": "2023-12-06T09:27:09.5123822Z",
              "spark_jobs": null,
              "parent_msg_id": "a1ee6340-122f-43d6-baf8-6f466f5e4e89"
            },
            "text/plain": "StatementMeta(aasparkpool001, 357, 7, Finished, Available)"
          },
          "metadata": {}
        },
        {
          "output_type": "stream",
          "name": "stderr",
          "text": "/opt/spark/python/lib/pyspark.zip/pyspark/sql/pandas/conversion.py:604: FutureWarning: iteritems is deprecated and will be removed in a future version. Use .items instead.\n"
        },
        {
          "output_type": "display_data",
          "data": {
            "application/vnd.synapse.widget-view+json": {
              "widget_id": "4d331f8f-a810-427a-89aa-ecf6ed1a8704",
              "widget_type": "Synapse.DataFrame"
            },
            "text/plain": "SynapseWidget(Synapse.DataFrame, 4d331f8f-a810-427a-89aa-ecf6ed1a8704)"
          },
          "metadata": {}
        }
      ],
      "metadata": {
        "jupyter": {
          "source_hidden": false,
          "outputs_hidden": false
        },
        "nteract": {
          "transient": {
            "deleting": false
          }
        },
        "collapsed": false
      },
      "source": [
        "df = pd.read_excel(file_path,dtype=str)\r\n",
        "display(df)\r\n",
        "\r\n",
        "# 写入文件\r\n",
        "save_path = 'abfss://data-warehouse-ods@dlsaaddpnorth3001.dfs.core.chinacloudapi.cn/ods_mau_bcd_aviation_city_code.csv'\r\n",
        "df.to_csv(save_path, mode='w',index=False, header=True)"
      ]
    }
  ],
  "metadata": {
    "description": null,
    "save_output": true,
    "kernelspec": {
      "name": "synapse_pyspark",
      "display_name": "Synapse PySpark"
    },
    "language_info": {
      "name": "python"
    },
    "synapse_widget": {
      "version": "0.1",
      "state": {
        "4d331f8f-a810-427a-89aa-ecf6ed1a8704": {
          "type": "Synapse.DataFrame",
          "sync_state": {
            "table": {
              "rows": [
                {
                  "0": "SHA",
                  "1": " 上海",
                  "2": "中国",
                  "3": "CN",
                  "4": " SHANGHAI"
                },
                {
                  "0": "CAN",
                  "1": " 广州",
                  "2": "中国",
                  "3": "CN",
                  "4": " GUANGZHOU"
                },
                {
                  "0": "PEK",
                  "1": " 北京",
                  "2": "中国",
                  "3": "CN",
                  "4": " BEIJING"
                },
                {
                  "0": "PKX",
                  "1": " 北京",
                  "2": "中国",
                  "3": "CN",
                  "4": " BEIJING"
                },
                {
                  "0": "SZX",
                  "1": " 深圳",
                  "2": "中国",
                  "3": "CN",
                  "4": " SHENZHEN"
                },
                {
                  "0": "CTU",
                  "1": " 成都",
                  "2": "中国",
                  "3": "CN",
                  "4": " CHENGDU"
                },
                {
                  "0": "CKG",
                  "1": " 重庆",
                  "2": "中国",
                  "3": "CN",
                  "4": " CHONGQING"
                },
                {
                  "0": "URC",
                  "1": " 乌鲁木齐",
                  "2": "中国",
                  "3": "CN",
                  "4": " URUMQI"
                },
                {
                  "0": "TSA",
                  "1": " 台北",
                  "2": "中国",
                  "3": "CN",
                  "4": " TAIBEI"
                },
                {
                  "0": "PVG",
                  "1": " 上海",
                  "2": "中国",
                  "3": "CN",
                  "4": " SHANGHAI"
                },
                {
                  "0": "KMG",
                  "1": " 昆明",
                  "2": "中国",
                  "3": "CN",
                  "4": " KUNMING"
                },
                {
                  "0": "TAO",
                  "1": " 青岛",
                  "2": "中国",
                  "3": "CN",
                  "4": " QINGDAO"
                },
                {
                  "0": "SHE",
                  "1": " 沈阳",
                  "2": "中国",
                  "3": "CN",
                  "4": " SHENYANG"
                },
                {
                  "0": "WUH",
                  "1": " 武汉",
                  "2": "中国",
                  "3": "CN",
                  "4": " WUHAN"
                },
                {
                  "0": "HRB",
                  "1": " 哈尔滨",
                  "2": "中国",
                  "3": "CN",
                  "4": " HARBIN"
                },
                {
                  "0": "DLC",
                  "1": " 大连",
                  "2": "中国",
                  "3": "CN",
                  "4": " DALIAN"
                },
                {
                  "0": "XIY",
                  "1": " 西安",
                  "2": "中国",
                  "3": "CN",
                  "4": " XIAN"
                },
                {
                  "0": "TSN",
                  "1": " 天津",
                  "2": "中国",
                  "3": "CN",
                  "4": " TIANJIN"
                },
                {
                  "0": "HGH",
                  "1": " 杭州",
                  "2": "中国",
                  "3": "CN",
                  "4": " HANGZHOU"
                },
                {
                  "0": "CSX",
                  "1": " 长沙",
                  "2": "中国",
                  "3": "CN",
                  "4": " CHANGSHA"
                },
                {
                  "0": "CGO",
                  "1": " 郑州",
                  "2": "中国",
                  "3": "CN",
                  "4": " ZHENGZHOU"
                },
                {
                  "0": "XMN",
                  "1": " 厦门",
                  "2": "中国",
                  "3": "CN",
                  "4": " XIAMEN"
                },
                {
                  "0": "TNA",
                  "1": " 济南",
                  "2": "中国",
                  "3": "CN",
                  "4": " JINAN"
                },
                {
                  "0": "NAY",
                  "1": " 北京南苑",
                  "2": "中国",
                  "3": "CN",
                  "4": " BEIJING"
                },
                {
                  "0": "HAK",
                  "1": " 海口",
                  "2": "中国",
                  "3": "CN",
                  "4": " HAIKOU"
                },
                {
                  "0": "KWE",
                  "1": " 贵阳",
                  "2": "中国",
                  "3": "CN",
                  "4": " GUIYANG"
                },
                {
                  "0": "NKG",
                  "1": " 南京",
                  "2": "中国",
                  "3": "CN",
                  "4": " NANJING"
                },
                {
                  "0": "WNZ",
                  "1": " 温州",
                  "2": "中国",
                  "3": "CN",
                  "4": " WENZHOU"
                },
                {
                  "0": "CGQ",
                  "1": " 长春",
                  "2": "中国",
                  "3": "CN",
                  "4": " CHANGCHUN"
                },
                {
                  "0": "NGB",
                  "1": " 宁波",
                  "2": "中国",
                  "3": "CN",
                  "4": " NINGBO"
                },
                {
                  "0": "KHN",
                  "1": " 南昌",
                  "2": "中国",
                  "3": "CN",
                  "4": " NANCHANG"
                },
                {
                  "0": "KHH",
                  "1": " 高雄",
                  "2": "中国",
                  "3": "CN",
                  "4": " GAOXIONG"
                },
                {
                  "0": "HFE",
                  "1": " 合肥",
                  "2": "中国",
                  "3": "CN",
                  "4": " HEFEI"
                },
                {
                  "0": "SYX",
                  "1": " 三亚",
                  "2": "中国",
                  "3": "CN",
                  "4": " SANYA"
                },
                {
                  "0": "NNG",
                  "1": " 南宁",
                  "2": "中国",
                  "3": "CN",
                  "4": " NANNING"
                },
                {
                  "0": "YNT",
                  "1": " 烟台",
                  "2": "中国",
                  "3": "CN",
                  "4": " YANTAI"
                },
                {
                  "0": "SJW",
                  "1": " 石家庄",
                  "2": "中国",
                  "3": "CN",
                  "4": " SHIJIAZHUANG"
                },
                {
                  "0": "INC",
                  "1": " 银川",
                  "2": "中国",
                  "3": "CN",
                  "4": " YINCHUAN"
                },
                {
                  "0": "LHW",
                  "1": " 兰州",
                  "2": "中国",
                  "3": "CN",
                  "4": " LANZHOU"
                },
                {
                  "0": "XNN",
                  "1": " 西宁",
                  "2": "中国",
                  "3": "CN",
                  "4": " XINING"
                },
                {
                  "0": "FOC",
                  "1": " 福州",
                  "2": "中国",
                  "3": "CN",
                  "4": " FUZHOU"
                },
                {
                  "0": "KWL",
                  "1": " 桂林",
                  "2": "中国",
                  "3": "CN",
                  "4": " GUILIN"
                },
                {
                  "0": "LXA",
                  "1": " 拉萨",
                  "2": "中国",
                  "3": "CN",
                  "4": " LHASA"
                },
                {
                  "0": "XUZ",
                  "1": " 徐州",
                  "2": "中国",
                  "3": "CN",
                  "4": " XUZHOU"
                },
                {
                  "0": "TYN",
                  "1": " 太原",
                  "2": "中国",
                  "3": "CN",
                  "4": " TAIYUAN"
                },
                {
                  "0": "ZHA",
                  "1": " 湛江",
                  "2": "中国",
                  "3": "CN",
                  "4": " ZHANJIANG"
                },
                {
                  "0": "WEH",
                  "1": " 威海",
                  "2": "中国",
                  "3": "CN",
                  "4": " WEIHAI"
                },
                {
                  "0": "JMU",
                  "1": " 佳木斯",
                  "2": "中国",
                  "3": "CN",
                  "4": " JIAMUSI"
                },
                {
                  "0": "HET",
                  "1": " 呼和浩特",
                  "2": "中国",
                  "3": "CN",
                  "4": " HOHHOT"
                },
                {
                  "0": "RMQ",
                  "1": " 台中",
                  "2": "中国台湾",
                  "3": "TW",
                  "4": " TAIZHONG"
                },
                {
                  "0": "WUX",
                  "1": " 无锡",
                  "2": "中国",
                  "3": "CN",
                  "4": " WUXI"
                },
                {
                  "0": "YIW",
                  "1": " 义乌",
                  "2": "中国",
                  "3": "CN",
                  "4": " YIWU"
                },
                {
                  "0": "ZUH",
                  "1": " 珠海",
                  "2": "中国",
                  "3": "CN",
                  "4": " ZHUHAI"
                },
                {
                  "0": "JHG",
                  "1": " 西双版纳",
                  "2": "中国",
                  "3": "CN",
                  "4": " JINGHONG"
                },
                {
                  "0": "LZH",
                  "1": " 柳州",
                  "2": "中国",
                  "3": "CN",
                  "4": " LIUZHOU"
                },
                {
                  "0": "KHG",
                  "1": " 喀什",
                  "2": "中国",
                  "3": "CN",
                  "4": " KASHGAR"
                },
                {
                  "0": "SZV",
                  "1": " 苏州",
                  "2": "中国",
                  "3": "CN",
                  "4": " SUZHOU"
                },
                {
                  "0": "YIH",
                  "1": " 宜昌",
                  "2": "中国",
                  "3": "CN",
                  "4": " YICHANG"
                },
                {
                  "0": "YBP",
                  "1": " 宜宾",
                  "2": "中国",
                  "3": "CN",
                  "4": " YIBIN"
                },
                {
                  "0": "LYI",
                  "1": " 临沂",
                  "2": "中国",
                  "3": "CN",
                  "4": " LINYI"
                },
                {
                  "0": "DSN",
                  "1": " 鄂尔多斯",
                  "2": "中国",
                  "3": "CN",
                  "4": " ORDOS"
                },
                {
                  "0": "BAV",
                  "1": " 包头",
                  "2": "中国",
                  "3": "CN",
                  "4": " BAOTOU"
                },
                {
                  "0": "LJG",
                  "1": " 丽江",
                  "2": "中国",
                  "3": "CN",
                  "4": " LIJIANG"
                },
                {
                  "0": "MDG",
                  "1": " 牡丹江",
                  "2": "中国",
                  "3": "CN",
                  "4": " MUDANJIANG"
                },
                {
                  "0": "AKU",
                  "1": " 阿克苏",
                  "2": "中国",
                  "3": "CN",
                  "4": " AKSU"
                },
                {
                  "0": "JJN",
                  "1": " 晋江",
                  "2": "中国",
                  "3": "CN",
                  "4": " QUANZHOU"
                },
                {
                  "0": "DDG",
                  "1": " 丹东",
                  "2": "中国",
                  "3": "CN",
                  "4": " DANDONG"
                },
                {
                  "0": "JNZ",
                  "1": " 锦州",
                  "2": "中国",
                  "3": "CN",
                  "4": " JINZHOU"
                },
                {
                  "0": "YNJ",
                  "1": " 延吉",
                  "2": "中国",
                  "3": "CN",
                  "4": " YANJI"
                },
                {
                  "0": "LYA",
                  "1": " 洛阳",
                  "2": "中国",
                  "3": "CN",
                  "4": " LUOYANG"
                },
                {
                  "0": "WEF",
                  "1": " 潍坊",
                  "2": "中国",
                  "3": "CN",
                  "4": " WEIFANG"
                },
                {
                  "0": "LYG",
                  "1": " 连云港",
                  "2": "中国",
                  "3": "CN",
                  "4": " LIANYUNGANG"
                },
                {
                  "0": "CZX",
                  "1": " 常州",
                  "2": "中国",
                  "3": "CN",
                  "4": " CHANGZHOU"
                },
                {
                  "0": "JIL",
                  "1": " 吉林",
                  "2": "中国",
                  "3": "CN",
                  "4": " JILIN"
                },
                {
                  "0": "HLD",
                  "1": " 海拉尔",
                  "2": "中国",
                  "3": "CN",
                  "4": " HAILAR"
                },
                {
                  "0": "SHP",
                  "1": " 秦皇岛",
                  "2": "中国",
                  "3": "CN",
                  "4": " QINHUANGDAO"
                },
                {
                  "0": "SWA",
                  "1": " 揭阳",
                  "2": "中国",
                  "3": "CN",
                  "4": " JIEYANG"
                },
                {
                  "0": "NDG",
                  "1": " 齐齐哈尔",
                  "2": "中国",
                  "3": "CN",
                  "4": " QIQIHAER"
                },
                {
                  "0": "BHY",
                  "1": " 北海",
                  "2": "中国",
                  "3": "CN",
                  "4": " BEIHAI"
                },
                {
                  "0": "XFN",
                  "1": " 襄阳",
                  "2": "中国",
                  "3": "CN",
                  "4": " XIANGYANG"
                },
                {
                  "0": "HMI",
                  "1": " 哈密",
                  "2": "中国",
                  "3": "CN",
                  "4": " HAMI"
                },
                {
                  "0": "WUS",
                  "1": " 武夷山",
                  "2": "中国",
                  "3": "CN",
                  "4": " WUYISHAN"
                },
                {
                  "0": "DYG",
                  "1": " 张家界",
                  "2": "中国",
                  "3": "CN",
                  "4": " ZHANGJIAJIE"
                },
                {
                  "0": "MIG",
                  "1": " 绵阳",
                  "2": "中国",
                  "3": "CN",
                  "4": " MIANYANG"
                },
                {
                  "0": "DAT",
                  "1": " 大同",
                  "2": "中国",
                  "3": "CN",
                  "4": " DATONG"
                },
                {
                  "0": "JGN",
                  "1": " 嘉峪关",
                  "2": "中国",
                  "3": "CN",
                  "4": " JIAYUGUAN"
                },
                {
                  "0": "NTG",
                  "1": " 南通",
                  "2": "中国",
                  "3": "CN",
                  "4": " NANTONG"
                },
                {
                  "0": "HYN",
                  "1": " 台州",
                  "2": "中国",
                  "3": "CN",
                  "4": " TAIZHOU"
                },
                {
                  "0": "KOW",
                  "1": " 赣州",
                  "2": "中国",
                  "3": "CN",
                  "4": " GANZHOU"
                },
                {
                  "0": "JIU",
                  "1": " 九江",
                  "2": "中国",
                  "3": "CN",
                  "4": " JIUJIANG"
                },
                {
                  "0": "NNY",
                  "1": " 南阳",
                  "2": "中国",
                  "3": "CN",
                  "4": " NANYANG"
                },
                {
                  "0": "TNN",
                  "1": " 台南",
                  "2": "中国",
                  "3": "CN",
                  "4": " TAINAN"
                },
                {
                  "0": "ZYI",
                  "1": " 遵义",
                  "2": "中国",
                  "3": "CN",
                  "4": " ZUNYI"
                },
                {
                  "0": "YIN",
                  "1": " 伊宁",
                  "2": "中国",
                  "3": "CN",
                  "4": " YINING"
                },
                {
                  "0": "CGD",
                  "1": " 常德",
                  "2": "中国",
                  "3": "CN",
                  "4": " CHANGDE"
                },
                {
                  "0": "YNZ",
                  "1": " 盐城",
                  "2": "中国",
                  "3": "CN",
                  "4": " YANCHENG"
                },
                {
                  "0": "KRL",
                  "1": " 库尔勒",
                  "2": "中国",
                  "3": "CN",
                  "4": " KORLA"
                },
                {
                  "0": "UYN",
                  "1": " 榆林",
                  "2": "中国",
                  "3": "CN",
                  "4": " YULIN"
                },
                {
                  "0": "XIC",
                  "1": " 西昌",
                  "2": "中国",
                  "3": "CN",
                  "4": " XICHANG"
                },
                {
                  "0": "HLH",
                  "1": " 乌兰浩特",
                  "2": "中国",
                  "3": "CN",
                  "4": " ULANHOT"
                },
                {
                  "0": "JUZ",
                  "1": " 衢州",
                  "2": "中国",
                  "3": "CN",
                  "4": " QUZHOU"
                },
                {
                  "0": "LZO",
                  "1": " 泸州",
                  "2": "中国",
                  "3": "CN",
                  "4": " LUZHOU"
                },
                {
                  "0": "DLU",
                  "1": " 大理",
                  "2": "中国",
                  "3": "CN",
                  "4": " DALIXIAGUAN"
                },
                {
                  "0": "TXN",
                  "1": " 黄山",
                  "2": "中国",
                  "3": "CN",
                  "4": " HUANGSHAN"
                },
                {
                  "0": "NAO",
                  "1": " 南充",
                  "2": "中国",
                  "3": "CN",
                  "4": " NANCHONG"
                },
                {
                  "0": "JDZ",
                  "1": " 景德镇",
                  "2": "中国",
                  "3": "CN",
                  "4": " JINGDEZHEN"
                },
                {
                  "0": "GOQ",
                  "1": " 格尔木",
                  "2": "中国",
                  "3": "CN",
                  "4": " GOLMUD"
                },
                {
                  "0": "ENH",
                  "1": " 恩施",
                  "2": "中国",
                  "3": "CN",
                  "4": " ENSHI"
                },
                {
                  "0": "FUG",
                  "1": " 阜阳",
                  "2": "中国",
                  "3": "CN",
                  "4": " FUYANG"
                },
                {
                  "0": "TGO",
                  "1": " 通辽",
                  "2": "中国",
                  "3": "CN",
                  "4": " TONGLIAO"
                },
                {
                  "0": "KNH",
                  "1": " 金门",
                  "2": "中国台湾",
                  "3": "TW",
                  "4": " JINMEN"
                },
                {
                  "0": "HJJ",
                  "1": " 怀化",
                  "2": "中国",
                  "3": "CN",
                  "4": " HUAIHUA"
                },
                {
                  "0": "SHS",
                  "1": " 沙市",
                  "2": "中国",
                  "3": "CN",
                  "4": " SHASHI"
                },
                {
                  "0": "WJD",
                  "1": " 武汉(武汉王家墩国际机场)",
                  "2": "中国",
                  "3": "CN",
                  "4": " WUHAN"
                },
                {
                  "0": "HNY",
                  "1": " 衡阳",
                  "2": "中国",
                  "3": "CN",
                  "4": " HENGYANG"
                },
                {
                  "0": "CIF",
                  "1": " 赤峰",
                  "2": "中国",
                  "3": "CN",
                  "4": " CHIFENG"
                },
                {
                  "0": "DAX",
                  "1": " 达州",
                  "2": "中国",
                  "3": "CN",
                  "4": " DAZHOU"
                },
                {
                  "0": "KRY",
                  "1": " 克拉玛依",
                  "2": "中国",
                  "3": "CN",
                  "4": " KARAMAY"
                },
                {
                  "0": "HZG",
                  "1": " 汉中",
                  "2": "中国",
                  "3": "CN",
                  "4": " HANZHONG"
                },
                {
                  "0": "DNH",
                  "1": " 敦煌",
                  "2": "中国",
                  "3": "CN",
                  "4": " DUNHUANG"
                },
                {
                  "0": "JNG",
                  "1": " 济宁",
                  "2": "中国",
                  "3": "CN",
                  "4": " JINING"
                },
                {
                  "0": "HSN",
                  "1": " 舟山",
                  "2": "中国",
                  "3": "CN",
                  "4": " ZHOUSHAN"
                },
                {
                  "0": "WXN",
                  "1": " 万州",
                  "2": "中国",
                  "3": "CN",
                  "4": " CHONGQING"
                },
                {
                  "0": "MZG",
                  "1": " 马公",
                  "2": "中国台湾",
                  "3": "TW",
                  "4": " PENGHU"
                },
                {
                  "0": "AQG",
                  "1": " 安庆",
                  "2": "中国",
                  "3": "CN",
                  "4": " ANQING"
                },
                {
                  "0": "XIL",
                  "1": " 锡林浩特",
                  "2": "中国",
                  "3": "CN",
                  "4": " XILINHOT"
                },
                {
                  "0": "CIH",
                  "1": " 长治",
                  "2": "中国",
                  "3": "CN",
                  "4": " CHANGZHI"
                },
                {
                  "0": "HUN",
                  "1": " 花莲",
                  "2": "中国台湾",
                  "3": "TW",
                  "4": " HUALIAN"
                },
                {
                  "0": "KCA",
                  "1": " 库车",
                  "2": "中国",
                  "3": "CN",
                  "4": " KUQA"
                },
                {
                  "0": "HTN",
                  "1": " 和田",
                  "2": "中国",
                  "3": "CN",
                  "4": " HETIAN"
                },
                {
                  "0": "HEK",
                  "1": " 黑河",
                  "2": "中国",
                  "3": "CN",
                  "4": " HEIHE"
                },
                {
                  "0": "TNH",
                  "1": " 通化",
                  "2": "中国",
                  "3": "CN",
                  "4": " TONGHUA"
                },
                {
                  "0": "TTG",
                  "1": " 台东",
                  "2": "中国",
                  "3": "CN",
                  "4": " TAIDONG"
                },
                {
                  "0": "LUM",
                  "1": " 芒市",
                  "2": "中国",
                  "3": "CN",
                  "4": " MANGSHI"
                },
                {
                  "0": "KNC",
                  "1": " 吉安",
                  "2": "中国",
                  "3": "CN",
                  "4": " JIAN"
                },
                {
                  "0": "AYN",
                  "1": " 安阳",
                  "2": "中国",
                  "3": "CN",
                  "4": " ANYANG"
                },
                {
                  "0": "TEN",
                  "1": " 铜仁",
                  "2": "中国",
                  "3": "CN",
                  "4": " TONGREN"
                },
                {
                  "0": "IQN",
                  "1": " 庆阳",
                  "2": "中国",
                  "3": "CN",
                  "4": " QINGYANG"
                },
                {
                  "0": "BDU",
                  "1": " 昌都邦达",
                  "2": "中国",
                  "3": "CN",
                  "4": " BARDUFOSS"
                },
                {
                  "0": "AKA",
                  "1": " 安康",
                  "2": "中国",
                  "3": "CN",
                  "4": " ANKANG"
                },
                {
                  "0": "LNJ",
                  "1": " 临沧",
                  "2": "中国",
                  "3": "CN",
                  "4": " LINCANG"
                },
                {
                  "0": "WNH",
                  "1": " 文山",
                  "2": "中国",
                  "3": "CN",
                  "4": " WENSHAN"
                },
                {
                  "0": "ZAT",
                  "1": " 昭通",
                  "2": "中国",
                  "3": "CN",
                  "4": " ZHAOTONG"
                },
                {
                  "0": "GHN",
                  "1": " 广汉",
                  "2": "中国",
                  "3": "CN",
                  "4": " GUANGHAN"
                },
                {
                  "0": "AOG",
                  "1": " 鞍山",
                  "2": "中国",
                  "3": "CN",
                  "4": " ANSHAN"
                },
                {
                  "0": "MXZ",
                  "1": " 梅县",
                  "2": "中国",
                  "3": "CN",
                  "4": " MEIXIAN"
                },
                {
                  "0": "IQM",
                  "1": " 且末",
                  "2": "中国",
                  "3": "CN",
                  "4": " QIEMO"
                },
                {
                  "0": "SYM",
                  "1": " 普洱",
                  "2": "中国",
                  "3": "CN",
                  "4": " PUER"
                },
                {
                  "0": "JZH",
                  "1": " 九寨沟",
                  "2": "中国",
                  "3": "CN",
                  "4": " JIUZHAIGOU"
                },
                {
                  "0": "DIG",
                  "1": " 迪庆",
                  "2": "中国",
                  "3": "CN",
                  "4": " DIQING"
                },
                {
                  "0": "HSC",
                  "1": " 韶关",
                  "2": "中国",
                  "3": "CN",
                  "4": " SHAOGUAN"
                },
                {
                  "0": "ENY",
                  "1": " 延安",
                  "2": "中国",
                  "3": "CN",
                  "4": " YANAN"
                },
                {
                  "0": "CNI",
                  "1": " 长海",
                  "2": "中国",
                  "3": "CN",
                  "4": " DALIAN"
                },
                {
                  "0": "GNI",
                  "1": " 格林艾兰",
                  "2": "中国台湾",
                  "3": "TW",
                  "4": " GREENISLAND"
                },
                {
                  "0": "WUZ",
                  "1": " 梧州",
                  "2": "中国",
                  "3": "CN",
                  "4": " WUZHOU"
                },
                {
                  "0": "CMJ",
                  "1": " 七美",
                  "2": "中国台湾",
                  "3": "TW",
                  "4": " QIMEI"
                },
                {
                  "0": "CHG",
                  "1": " 朝阳",
                  "2": "中国",
                  "3": "CN",
                  "4": " CHAOYANG"
                },
                {
                  "0": "BPX",
                  "1": " 昌都",
                  "2": "中国",
                  "3": "CN",
                  "4": " CHAMDO"
                },
                {
                  "0": "AAT",
                  "1": " 阿勒泰",
                  "2": "中国",
                  "3": "CN",
                  "4": " ALTAY"
                },
                {
                  "0": "BSD",
                  "1": " 保山",
                  "2": "中国",
                  "3": "CN",
                  "4": " BAOSHAN"
                },
                {
                  "0": "XEN",
                  "1": " 兴城",
                  "2": "中国",
                  "3": "CN",
                  "4": " HULUDAO"
                },
                {
                  "0": "CHW",
                  "1": " 酒泉",
                  "2": "中国",
                  "3": "CN",
                  "4": " JIUQUAN"
                },
                {
                  "0": "NLT",
                  "1": " 那拉提",
                  "2": "中国",
                  "3": "CN",
                  "4": " NALATI"
                },
                {
                  "0": "NNN",
                  "1": " 嫩江",
                  "2": "中国",
                  "3": "CN",
                  "4": " HEIHE"
                },
                {
                  "0": "BFU",
                  "1": " 蚌埠",
                  "2": "中国",
                  "3": "CN",
                  "4": " BENGBU"
                },
                {
                  "0": "FYN",
                  "1": " 富蕴",
                  "2": "中国",
                  "3": "CN",
                  "4": " FUYUN"
                },
                {
                  "0": "CYI",
                  "1": " 嘉义",
                  "2": "中国",
                  "3": "CN",
                  "4": " JIAYI"
                },
                {
                  "0": "TCG",
                  "1": " 塔城",
                  "2": "中国",
                  "3": "CN",
                  "4": " TACHENG"
                },
                {
                  "0": "LZJ",
                  "1": " 丽江(云南丽江机场)",
                  "2": "中国",
                  "3": "CN",
                  "4": " Lijiang(LijiangAirport)"
                },
                {
                  "0": "TXG",
                  "1": " 台中",
                  "2": "中国",
                  "3": "CN",
                  "4": " TAICHUNG"
                },
                {
                  "0": "HLN",
                  "1": " 花莲",
                  "2": "中国",
                  "3": "CN",
                  "4": " HELENA(HelenaRegionalAirport)"
                },
                {
                  "0": "TTT",
                  "1": " 台东",
                  "2": "中国台湾",
                  "3": "TW",
                  "4": " TAIDONG"
                },
                {
                  "0": "TPE",
                  "1": " 台北",
                  "2": "中国台湾",
                  "3": "TW",
                  "4": " TAIBEI"
                },
                {
                  "0": "BPE",
                  "1": "秦皇岛",
                  "2": "中国",
                  "3": "CN"
                },
                {
                  "0": "YTY",
                  "1": "扬州",
                  "2": "中国",
                  "3": "CN"
                },
                {
                  "0": "SIN",
                  "1": "新加坡",
                  "2": "新加坡"
                },
                {
                  "0": "KUL",
                  "1": "吉隆坡",
                  "2": "马来西亚"
                },
                {
                  "0": "BKK",
                  "1": "曼谷",
                  "2": "泰国"
                },
                {
                  "0": "HND",
                  "1": "东京",
                  "2": "日本"
                },
                {
                  "0": "WDS",
                  "1": "十堰",
                  "2": "中国",
                  "3": "CN"
                },
                {
                  "0": "FRA",
                  "1": " 法兰克福",
                  "2": "德国",
                  "3": "DE",
                  "4": " FRANKFURT"
                },
                {
                  "0": "HAM",
                  "1": " 汉堡",
                  "2": "德国",
                  "3": "DE",
                  "4": " HAMBURG"
                },
                {
                  "0": "STR",
                  "1": " 斯图加特",
                  "2": "德国",
                  "3": "DE",
                  "4": " STUTTGART"
                },
                {
                  "0": "TXL",
                  "1": " 柏林",
                  "2": "德国",
                  "3": "DE",
                  "4": " BERLIN"
                },
                {
                  "0": "MUC",
                  "1": " 慕尼黑",
                  "2": "德国",
                  "3": "DE",
                  "4": " MUNICH"
                },
                {
                  "0": "DUS",
                  "1": " 杜塞尔多夫",
                  "2": "德国",
                  "3": "DE",
                  "4": " DUSSELDORF"
                },
                {
                  "0": "NUE",
                  "1": " 纽伦堡",
                  "2": "德国",
                  "3": "DE",
                  "4": " NUREMBERG"
                },
                {
                  "0": "CGN",
                  "1": " 科隆",
                  "2": "德国",
                  "3": "DE",
                  "4": " COLOGNE"
                },
                {
                  "0": "HAJ",
                  "1": " 汉诺威",
                  "2": "德国",
                  "3": "DE",
                  "4": " HANNOVER"
                },
                {
                  "0": "DRS",
                  "1": " 德累斯顿",
                  "2": "德国",
                  "3": "DE",
                  "4": " DRESDEN"
                },
                {
                  "0": "MSR",
                  "1": " 明斯特",
                  "2": "德国",
                  "3": "DE",
                  "4": " MUS/TURKISHAFB"
                },
                {
                  "0": "DTM",
                  "1": " 多特蒙德",
                  "2": "德国",
                  "3": "DE",
                  "4": " DORTMUNDWICKEDE(DortmundAirport)"
                },
                {
                  "0": "BWE",
                  "1": " 不伦瑞克",
                  "2": "德国",
                  "3": "DE",
                  "4": " BRAUNSCHWEIG"
                },
                {
                  "0": "FMO",
                  "1": " 蒙斯特",
                  "2": "德国",
                  "3": "DE",
                  "4": " MUENSTER"
                },
                {
                  "0": "BRE",
                  "1": " 不来梅",
                  "2": "德国",
                  "3": "DE",
                  "4": " BREMEN"
                },
                {
                  "0": "ESS",
                  "1": " 埃森",
                  "2": "德国",
                  "3": "DE",
                  "4": " ESSEN"
                },
                {
                  "0": "HKG",
                  "1": "香港",
                  "2": "中国香港",
                  "3": "CN"
                },
                {
                  "0": "SCN",
                  "1": " 萨尔布鲁根",
                  "2": "德国",
                  "3": "DE",
                  "4": " SAARBRUCKEN"
                },
                {
                  "0": "KEL",
                  "1": " 基尔",
                  "2": "德国",
                  "3": "DE",
                  "4": " KIEL"
                },
                {
                  "0": "BRV",
                  "1": " 不来梅港",
                  "2": "德国",
                  "3": "DE",
                  "4": " BREMERHAVEN"
                },
                {
                  "0": "JUI",
                  "1": " 儒伊斯特",
                  "2": "德国",
                  "3": "DE",
                  "4": " JUIST"
                },
                {
                  "0": "HDB",
                  "1": " 海德堡",
                  "2": "德国",
                  "3": "DE",
                  "4": " HEIDELBERG(HEIDELBERG,GERMANY)"
                },
                {
                  "0": "KSF",
                  "1": " 卡塞尔",
                  "2": "德国",
                  "3": "DE",
                  "4": " KASSEL"
                },
                {
                  "0": "MHG",
                  "1": " 曼海姆",
                  "2": "德国",
                  "3": "DE",
                  "4": " MANNHEIM"
                },
                {
                  "0": "ERF",
                  "1": " 艾福特",
                  "2": "德国",
                  "3": "DE",
                  "4": " ERFURT"
                },
                {
                  "0": "BYU",
                  "1": " 拜伊罗特",
                  "2": "德国",
                  "3": "DE",
                  "4": " BAYREUTH(BAYREUTH,GERMANYBINDLACHERBERG)"
                },
                {
                  "0": "GWT",
                  "1": " 叙尔特岛",
                  "2": "德国",
                  "3": "DE",
                  "4": " SYLT"
                },
                {
                  "0": "BMK",
                  "1": " 博尔库姆",
                  "2": "德国",
                  "3": "DE",
                  "4": " BORKUM"
                },
                {
                  "0": "NRD",
                  "1": " 诺德奈",
                  "2": "德国",
                  "3": "DE",
                  "4": " NORDERNEY"
                },
                {
                  "0": "BBH",
                  "1": " 巴尔特",
                  "2": "德国",
                  "3": "DE",
                  "4": " BARTH"
                },
                {
                  "0": "NOE",
                  "1": " 诺德代希",
                  "2": "德国",
                  "3": "DE",
                  "4": " NORDDEICH"
                },
                {
                  "0": "EME",
                  "1": " 埃姆登",
                  "2": "德国",
                  "3": "DE",
                  "4": " EMDEN"
                },
                {
                  "0": "HDF",
                  "1": " 赫林斯多夫",
                  "2": "德国",
                  "3": "DE",
                  "4": " HERINGSDORF"
                },
                {
                  "0": "LEJ",
                  "1": " 莱比锡",
                  "2": "德国",
                  "3": "DE",
                  "4": " LEIPZIG"
                },
                {
                  "0": "HHN",
                  "1": " 法兰克福",
                  "2": "德国",
                  "3": "DE",
                  "4": " FRANKFURT"
                },
                {
                  "0": "BER",
                  "1": " 柏林",
                  "2": "德国",
                  "3": "DE",
                  "4": " BERLIN"
                },
                {
                  "0": "SXF",
                  "1": " 柏林",
                  "2": "德国",
                  "3": "DE",
                  "4": " BERLIN"
                },
                {
                  "0": "THF",
                  "1": " 柏林",
                  "2": "德国",
                  "3": "DE",
                  "4": " BERLIN"
                },
                {
                  "0": "XFW",
                  "1": " 汉堡",
                  "2": "德国",
                  "3": "DE",
                  "4": " HAMBURG"
                },
                {
                  "0": "AMS",
                  "1": "阿姆斯特丹",
                  "2": "荷兰"
                },
                {
                  "0": "BLL",
                  "1": "比隆德",
                  "2": "丹麦"
                },
                {
                  "0": "NRT",
                  "1": "东京",
                  "2": "日本"
                },
                {
                  "0": "MEL",
                  "1": "墨尔本",
                  "2": "澳大利亚"
                },
                {
                  "0": "IST",
                  "1": "伊斯坦布尔",
                  "2": "土耳其"
                },
                {
                  "0": "QYG",
                  "1": "德国火车站",
                  "2": "德国"
                },
                {
                  "0": "HAN",
                  "1": "河内",
                  "2": "越南"
                },
                {
                  "0": "BLR",
                  "1": "班加罗尔",
                  "2": "印度"
                },
                {
                  "0": "DEL",
                  "1": "新德里",
                  "2": "印度"
                },
                {
                  "0": "ICN",
                  "1": "仁川",
                  "2": "韩国"
                },
                {
                  "0": "CGK",
                  "1": "雅加达",
                  "2": "印度尼西亚"
                },
                {
                  "0": "ELP",
                  "1": "艾尔帕索",
                  "2": "美国"
                },
                {
                  "0": "CDG",
                  "1": "巴黎",
                  "2": "法国"
                },
                {
                  "0": "RKZ",
                  "1": "日喀则",
                  "2": "西藏"
                },
                {
                  "0": "RTW",
                  "1": "萨拉托夫",
                  "2": "俄罗斯"
                },
                {
                  "0": "FCO",
                  "1": "罗马",
                  "2": "意大利"
                },
                {
                  "0": "MSP",
                  "1": "明尼阿波利斯",
                  "2": "美国"
                },
                {
                  "0": "ORD",
                  "1": "芝加哥",
                  "2": "美国"
                },
                {
                  "0": "PNQ",
                  "1": "浦那",
                  "2": "印度"
                },
                {
                  "0": "GRU",
                  "1": "圣保罗",
                  "2": "巴西"
                },
                {
                  "0": "BOM",
                  "1": "孟买",
                  "2": "印度"
                },
                {
                  "0": "MNL",
                  "1": "马尼拉",
                  "2": "菲律宾"
                },
                {
                  "0": "YCU",
                  "1": "运城",
                  "2": "中国"
                },
                {
                  "0": "WUA",
                  "1": "乌海",
                  "2": "中国"
                },
                {
                  "0": "YLX",
                  "1": "玉林",
                  "2": "中国"
                },
                {
                  "0": "KWL",
                  "1": "桂林",
                  "2": "中国"
                },
                {
                  "0": "SQD",
                  "1": "上饶",
                  "2": "中国"
                },
                {
                  "0": "ACX",
                  "1": "兴义",
                  "2": "中国"
                },
                {
                  "0": "RLK",
                  "1": "巴彦淖尔市",
                  "2": "中国"
                },
                {
                  "0": "HUZ",
                  "1": "惠州",
                  "2": "中国"
                },
                {
                  "0": "YKH",
                  "1": "营口",
                  "2": "中国"
                }
              ],
              "schema": [
                {
                  "key": "0",
                  "name": "三字代码",
                  "type": "string"
                },
                {
                  "key": "1",
                  "name": "所属城市",
                  "type": "string"
                },
                {
                  "key": "2",
                  "name": "所属国家",
                  "type": "string"
                },
                {
                  "key": "3",
                  "name": "国家代码",
                  "type": "string"
                },
                {
                  "key": "4",
                  "name": "英文名称",
                  "type": "string"
                }
              ],
              "truncated": false
            },
            "isSummary": false,
            "language": "scala"
          },
          "persist_state": {
            "view": {
              "type": "details",
              "tableOptions": {},
              "chartOptions": {
                "chartType": "bar",
                "aggregationType": "count",
                "categoryFieldKeys": [
                  "0"
                ],
                "seriesFieldKeys": [
                  "0"
                ],
                "isStacked": false
              }
            }
          }
        }
      }
    }
  }
}