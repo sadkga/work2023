{
 "cells": [
  {
   "cell_type": "code",
   "execution_count": null,
   "metadata": {},
   "outputs": [],
   "source": [
    "# 导包\n",
    "import pyspark.sql.functions as F\n",
    "import pyspark.sql.types as T\n",
    "from pyspark.sql.window import Window\n",
    "from datetime import datetime,timedelta\n",
    "import requests \n",
    "import re\n",
    "import json   "
   ]
  },
  {
   "cell_type": "code",
   "execution_count": null,
   "metadata": {},
   "outputs": [],
   "source": [
    "# 读取数据\n",
    "workshop_address = 'abfss://test-data@dlsaaddpnorth3001.dfs.core.chinacloudapi.cn/test/WZX/03-workshop/workshop_address.csv'\n",
    "branch_address = 'abfss://test-data@dlsaaddpnorth3001.dfs.core.chinacloudapi.cn/test/WZX/03-workshop/branch_address.csv'\n",
    "workshop = spark.read.csv(workshop_address,header=True)\n",
    "branch = spark.read.csv(branch_address,header=True).where(F.col('branch_name') != '\"')"
   ]
  },
  {
   "cell_type": "code",
   "execution_count": null,
   "metadata": {},
   "outputs": [],
   "source": [
    "\"\"\"todo8: 地理识别\"\"\"\n",
    "def formatted_addr(addr):\n",
    "    if addr is None:\n",
    "        return ''\n",
    "    addr = re.sub(r'[^\\u4e00-\\u9fa5a-zA-Z0-9]', '', addr)\n",
    "    addr_key = '1f206129ec240f1cc12be917b9615c0b'\n",
    "    _url = 'https://restapi.amap.com/v3/geocode/geo?address={}&output=JSON&key={}'.format(addr, addr_key)\n",
    "    addr_data = '' + \"&\" + '' + \"&\" + '' + \"&\" + '' + \"&\" + '' + \"&\" + '0.0,0.0'\n",
    "    respon = requests.get(_url)\n",
    "    response = json.loads(respon.content)\n",
    "    status = response['status']\n",
    "    info = response['info']\n",
    "    if status == '1' and info == 'OK':\n",
    "        count = response['count']\n",
    "        if count >= '1':\n",
    "            data = response[\"geocodes\"][0]\n",
    "            formatted_address = data[\"formatted_address\"]\n",
    "            country = data[\"country\"]\n",
    "            province = data[\"province\"]\n",
    "            city = data[\"city\"]\n",
    "            district = data[\"district\"]\n",
    "            location = data[\"location\"]\n",
    "            addr_data = str(formatted_address) + \"&\" + str(country) + \"&\" + str(province) + \"&\" + str(\n",
    "                city) + \"&\" + str(district) + \"&\" + str(location)\n",
    "        elif count == '0':\n",
    "            addr_data = '' + \"&\" + '' + \"&\" + '' + \"&\" + '' + \"&\" + '' + \"&\" + '0.0,0.0'\n",
    "    elif status == '0' and info != 'OK':\n",
    "        addr_data = '' + \"&\" + '' + \"&\" + '' + \"&\" + '' + \"&\" + '' + \"&\" + '0.0,0.0'\n",
    "\n",
    "    r0 = addr_data.split('&')[0] # address\n",
    "    r1 = addr_data.split('&')[1] # country\n",
    "    r2 = addr_data.split('&')[2] # province\n",
    "    r3 = addr_data.split('&')[3] # city\n",
    "    r4 = addr_data.split('&')[4] # district\n",
    "    r5 = addr_data.split('&')[5] # Latitude and longitude\n",
    "    ra = '|'.join([r0,r5])\n",
    "\n",
    "\n",
    "    return ra\n",
    "gd_udf = F.udf(formatted_addr,T.StringType())"
   ]
  },
  {
   "cell_type": "code",
   "execution_count": null,
   "metadata": {},
   "outputs": [],
   "source": [
    "formatted_addr('无锡市广益汽配城A区1#210室')"
   ]
  },
  {
   "cell_type": "code",
   "execution_count": null,
   "metadata": {},
   "outputs": [],
   "source": [
    "df1 = branch.withColumn('all',gd_udf(F.col(' detail_address'))) \\   \n",
    "                   .withColumn('address',F.split(F.col('all'),'\\|').getItem(0)) \\\n",
    "                   .withColumn('latitude_and_longitude',F.split(F.col('all'),'\\|').getItem(1)) \\\n",
    "                   .withColumnRenamed(' detail_address','detail_address') \\\n",
    "                   .drop('all')"
   ]
  },
  {
   "cell_type": "code",
   "execution_count": null,
   "metadata": {},
   "outputs": [],
   "source": [
    "df2 = workshop.withColumn('all',gd_udf(F.col('detail_address'))) \\\n",
    "              .withColumn('address',F.split(F.col('all'),'\\|').getItem(0)) \\\n",
    "              .withColumn('latitude_and_longitude',F.split(F.col('all'),'\\|').getItem(1)) \\\n",
    "              .drop('all')"
   ]
  },
  {
   "cell_type": "code",
   "execution_count": null,
   "metadata": {},
   "outputs": [],
   "source": [
    "# save \n",
    "save1 = 'abfss://test-data@dlsaaddpnorth3001.dfs.core.chinacloudapi.cn/test/WZX/03-workshop/branch_address.xlsx'\n",
    "save2 = 'abfss://test-data@dlsaaddpnorth3001.dfs.core.chinacloudapi.cn/test/WZX/03-workshop/workshop_address.xlsx'\n",
    "\n",
    "# df1.toPandas().to_excel(save1,index=False,header=True)\n",
    "df2.toPandas().to_excel(save2,index=False,header=True)"
   ]
  }
 ],
 "metadata": {
  "language_info": {
   "name": "python"
  }
 },
 "nbformat": 4,
 "nbformat_minor": 2
}
