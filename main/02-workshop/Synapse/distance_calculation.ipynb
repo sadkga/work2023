{
 "cells": [
  {
   "cell_type": "code",
   "execution_count": null,
   "metadata": {},
   "outputs": [],
   "source": [
    "# TODO 0: import\n",
    "import pandas as pd\n",
    "from geopy.distance import geodesic"
   ]
  },
  {
   "cell_type": "code",
   "execution_count": null,
   "metadata": {},
   "outputs": [],
   "source": [
    "def calculate_distance(row):\n",
    "    \"\"\"\n",
    "    计算两个经纬度坐标之间的距离\n",
    "\n",
    "    :param coord1: 第一个坐标，格式为 (纬度, 经度)\n",
    "    :param coord2: 第二个坐标，格式为 (纬度, 经度)\n",
    "    :return: 距离（单位：千米）\n",
    "    \"\"\"\n",
    "    coord1 = row['distance1']\n",
    "    coord2 = row['distance2']\n",
    "\n",
    "    if coord1 ==('nan',) or coord2 == ('nan',):\n",
    "        distance = ''\n",
    "    else:\n",
    "        distance = geodesic(coord1, coord2).kilometers\n",
    "    return distance\n",
    "\n",
    "\n",
    "def split_to_tuple(row):\n",
    "    \"\"\"\n",
    "    定义一个函数，将逗号分隔的字符串拆分成元组\n",
    "    \"\"\"\n",
    "    row = str(row).split(',')\n",
    "    row.reverse()\n",
    "    return tuple(row)\n",
    "\n"
   ]
  },
  {
   "cell_type": "code",
   "execution_count": null,
   "metadata": {},
   "outputs": [],
   "source": [
    "# TODO 1: read file\n",
    "read_branch = 'abfss://test-data@dlsaaddpnorth3001.dfs.core.chinacloudapi.cn/test/WZX/03-workshop/branch_address.xlsx'\n",
    "read_workshop = 'abfss://test-data@dlsaaddpnorth3001.dfs.core.chinacloudapi.cn/test/WZX/03-workshop/workshop_address.xlsx'\n",
    "df_branch = pd.read_excel(read_branch)\n",
    "df_workshop = pd.read_excel(read_workshop,dtype=str)\n",
    "\n",
    "# TODO 2：obtain_longitude_and_latitude\n",
    "df_branch['distance1'] = df_branch['latitude_and_longitude'].apply(split_to_tuple)\n",
    "df_workshop['distance2'] = df_workshop['latitude_and_longitude'].apply(split_to_tuple)\n",
    "df_branch = df_branch[['branch_name','distance1']]\n",
    "df_workshop = df_workshop[['client_name','distance2']]\n",
    "print(df_workshop)\n",
    "\n",
    "# TODO 3: calculate_distance\n",
    "df_merge = pd.merge(df_branch.assign(key=1),df_workshop.assign(key=1),on='key').drop('key',axis=1)\n",
    "print(df_merge.columns)\n",
    "df_merge['distance'] = df_merge[['distance1','distance2']].apply(calculate_distance,axis=1)\n",
    "df_result = df_merge[['client_name','branch_name','distance']]\n",
    "print(df_result)\n",
    "\n",
    "# display(df_branch['distance'].tolist())\n",
    "\n"
   ]
  },
  {
   "cell_type": "code",
   "execution_count": null,
   "metadata": {},
   "outputs": [],
   "source": [
    "# 导包\n",
    "from notebookutils import mssparkutils  \n",
    "from openpyxl import load_workbook\n",
    "import pandas as pd\n",
    "import os\n",
    "from datetime import datetime,timedelta    \n",
    "\n",
    "# 挂载blob\n",
    "mssparkutils.fs.mount(\n",
    "    \"abfss://test-data@dlsaaddpnorth3001.dfs.core.chinacloudapi.cn\",\n",
    "    \"/mnt/test\",\n",
    "    {\"LinkedService\" : \"AzureBlobStorage_proddataplatcn3blob01\"}\n",
    ")\n",
    "\n",
    "path = mssparkutils.fs.getMountPath(\"/mnt/test\")\n",
    "\n",
    "# 获得处理的文件\n",
    "root = path + '/test/WZX/03-workshop/address_distance.xlsx'\n",
    "# files = os.listdir(root)\n",
    "# file_path = os.path.join(root,files[0])\n",
    "print(root)"
   ]
  },
  {
   "cell_type": "code",
   "execution_count": null,
   "metadata": {},
   "outputs": [],
   "source": [
    "print(df_result)"
   ]
  },
  {
   "cell_type": "code",
   "execution_count": null,
   "metadata": {},
   "outputs": [],
   "source": [
    "# TODO 4：save\n",
    "df_result.to_csv(root,header=True,index=False)"
   ]
  }
 ],
 "metadata": {
  "language_info": {
   "name": "python"
  }
 },
 "nbformat": 4,
 "nbformat_minor": 2
}
